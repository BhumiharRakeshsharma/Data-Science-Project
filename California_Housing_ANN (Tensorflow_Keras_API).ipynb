{
 "cells": [
  {
   "cell_type": "code",
   "execution_count": 1,
   "metadata": {},
   "outputs": [
    {
     "name": "stdout",
     "output_type": "stream",
     "text": [
      "Populating the interactive namespace from numpy and matplotlib\n"
     ]
    }
   ],
   "source": [
    "%pylab inline\n",
    "import pandas as pd\n",
    "import tensorflow as tf\n",
    "from tensorflow import keras"
   ]
  },
  {
   "cell_type": "code",
   "execution_count": 2,
   "metadata": {},
   "outputs": [],
   "source": [
    "from sklearn.datasets import fetch_california_housing"
   ]
  },
  {
   "cell_type": "code",
   "execution_count": 3,
   "metadata": {},
   "outputs": [],
   "source": [
    "housing= fetch_california_housing()"
   ]
  },
  {
   "cell_type": "code",
   "execution_count": 4,
   "metadata": {},
   "outputs": [
    {
     "name": "stdout",
     "output_type": "stream",
     "text": [
      "{'data': array([[   8.3252    ,   41.        ,    6.98412698, ...,    2.55555556,\n",
      "          37.88      , -122.23      ],\n",
      "       [   8.3014    ,   21.        ,    6.23813708, ...,    2.10984183,\n",
      "          37.86      , -122.22      ],\n",
      "       [   7.2574    ,   52.        ,    8.28813559, ...,    2.80225989,\n",
      "          37.85      , -122.24      ],\n",
      "       ...,\n",
      "       [   1.7       ,   17.        ,    5.20554273, ...,    2.3256351 ,\n",
      "          39.43      , -121.22      ],\n",
      "       [   1.8672    ,   18.        ,    5.32951289, ...,    2.12320917,\n",
      "          39.43      , -121.32      ],\n",
      "       [   2.3886    ,   16.        ,    5.25471698, ...,    2.61698113,\n",
      "          39.37      , -121.24      ]]), 'target': array([4.526, 3.585, 3.521, ..., 0.923, 0.847, 0.894]), 'feature_names': ['MedInc', 'HouseAge', 'AveRooms', 'AveBedrms', 'Population', 'AveOccup', 'Latitude', 'Longitude'], 'DESCR': '.. _california_housing_dataset:\\n\\nCalifornia Housing dataset\\n--------------------------\\n\\n**Data Set Characteristics:**\\n\\n    :Number of Instances: 20640\\n\\n    :Number of Attributes: 8 numeric, predictive attributes and the target\\n\\n    :Attribute Information:\\n        - MedInc        median income in block\\n        - HouseAge      median house age in block\\n        - AveRooms      average number of rooms\\n        - AveBedrms     average number of bedrooms\\n        - Population    block population\\n        - AveOccup      average house occupancy\\n        - Latitude      house block latitude\\n        - Longitude     house block longitude\\n\\n    :Missing Attribute Values: None\\n\\nThis dataset was obtained from the StatLib repository.\\nhttp://lib.stat.cmu.edu/datasets/\\n\\nThe target variable is the median house value for California districts.\\n\\nThis dataset was derived from the 1990 U.S. census, using one row per census\\nblock group. A block group is the smallest geographical unit for which the U.S.\\nCensus Bureau publishes sample data (a block group typically has a population\\nof 600 to 3,000 people).\\n\\nIt can be downloaded/loaded using the\\n:func:`sklearn.datasets.fetch_california_housing` function.\\n\\n.. topic:: References\\n\\n    - Pace, R. Kelley and Ronald Barry, Sparse Spatial Autoregressions,\\n      Statistics and Probability Letters, 33 (1997) 291-297\\n'}\n"
     ]
    }
   ],
   "source": [
    "print(housing)"
   ]
  },
  {
   "cell_type": "code",
   "execution_count": 5,
   "metadata": {},
   "outputs": [
    {
     "data": {
      "text/plain": [
       "(20640, 8)"
      ]
     },
     "execution_count": 5,
     "metadata": {},
     "output_type": "execute_result"
    }
   ],
   "source": [
    "housing.data.shape"
   ]
  },
  {
   "cell_type": "code",
   "execution_count": 6,
   "metadata": {},
   "outputs": [
    {
     "data": {
      "text/plain": [
       "(20640,)"
      ]
     },
     "execution_count": 6,
     "metadata": {},
     "output_type": "execute_result"
    }
   ],
   "source": [
    "housing.target.shape"
   ]
  },
  {
   "cell_type": "code",
   "execution_count": 7,
   "metadata": {},
   "outputs": [
    {
     "name": "stdout",
     "output_type": "stream",
     "text": [
      "['MedInc', 'HouseAge', 'AveRooms', 'AveBedrms', 'Population', 'AveOccup', 'Latitude', 'Longitude']\n"
     ]
    }
   ],
   "source": [
    "print(housing.feature_names)"
   ]
  },
  {
   "cell_type": "code",
   "execution_count": 8,
   "metadata": {},
   "outputs": [],
   "source": [
    "from sklearn.model_selection import train_test_split"
   ]
  },
  {
   "cell_type": "code",
   "execution_count": 9,
   "metadata": {},
   "outputs": [],
   "source": [
    "x_train, x_test, y_train, y_test=train_test_split(housing.data, housing.target)\n",
    "x_train, x_valid, y_train, y_valid=train_test_split(x_train, y_train)"
   ]
  },
  {
   "cell_type": "code",
   "execution_count": 10,
   "metadata": {},
   "outputs": [],
   "source": [
    "from sklearn.preprocessing import StandardScaler\n",
    "scaler=StandardScaler()\n",
    "x_train=scaler.fit_transform(x_train)\n",
    "x_valid=scaler.transform(x_valid)\n",
    "x_test=scaler.transform(x_test)\n"
   ]
  },
  {
   "cell_type": "code",
   "execution_count": 11,
   "metadata": {},
   "outputs": [
    {
     "data": {
      "text/plain": [
       "(11610, 8)"
      ]
     },
     "execution_count": 11,
     "metadata": {},
     "output_type": "execute_result"
    }
   ],
   "source": [
    "x_train.shape"
   ]
  },
  {
   "cell_type": "code",
   "execution_count": 12,
   "metadata": {},
   "outputs": [
    {
     "data": {
      "text/plain": [
       "(3870, 8)"
      ]
     },
     "execution_count": 12,
     "metadata": {},
     "output_type": "execute_result"
    }
   ],
   "source": [
    "x_valid.shape"
   ]
  },
  {
   "cell_type": "code",
   "execution_count": 13,
   "metadata": {},
   "outputs": [
    {
     "data": {
      "text/plain": [
       "(5160, 8)"
      ]
     },
     "execution_count": 13,
     "metadata": {},
     "output_type": "execute_result"
    }
   ],
   "source": [
    "x_test.shape"
   ]
  },
  {
   "cell_type": "markdown",
   "metadata": {},
   "source": [
    "# Lets Create model structure"
   ]
  },
  {
   "cell_type": "code",
   "execution_count": 14,
   "metadata": {},
   "outputs": [],
   "source": [
    "model=keras.models.Sequential([\n",
    "    keras.layers.Dense(30, activation='relu',input_shape=[8]),\n",
    "    keras.layers.Dense(30,activation='relu'),\n",
    "    keras.layers.Dense(1)    \n",
    "])"
   ]
  },
  {
   "cell_type": "code",
   "execution_count": 15,
   "metadata": {},
   "outputs": [
    {
     "name": "stdout",
     "output_type": "stream",
     "text": [
      "Model: \"sequential\"\n",
      "_________________________________________________________________\n",
      "Layer (type)                 Output Shape              Param #   \n",
      "=================================================================\n",
      "dense (Dense)                (None, 30)                270       \n",
      "_________________________________________________________________\n",
      "dense_1 (Dense)              (None, 30)                930       \n",
      "_________________________________________________________________\n",
      "dense_2 (Dense)              (None, 1)                 31        \n",
      "=================================================================\n",
      "Total params: 1,231\n",
      "Trainable params: 1,231\n",
      "Non-trainable params: 0\n",
      "_________________________________________________________________\n"
     ]
    }
   ],
   "source": [
    "model.summary()"
   ]
  },
  {
   "cell_type": "markdown",
   "metadata": {},
   "source": [
    "# Lets Compile our model"
   ]
  },
  {
   "cell_type": "code",
   "execution_count": 16,
   "metadata": {},
   "outputs": [],
   "source": [
    "model.compile(loss=\"mean_squared_error\",\n",
    "             optimizer=keras.optimizers.SGD(0.001),\n",
    "              metrics=['mae'])"
   ]
  },
  {
   "cell_type": "code",
   "execution_count": 17,
   "metadata": {
    "scrolled": true
   },
   "outputs": [
    {
     "name": "stdout",
     "output_type": "stream",
     "text": [
      "Epoch 1/30\n",
      "363/363 [==============================] - 2s 5ms/step - loss: 1.7733 - mae: 0.9719 - val_loss: 0.7910 - val_mae: 0.6502\n",
      "Epoch 2/30\n",
      "363/363 [==============================] - 1s 3ms/step - loss: 0.6828 - mae: 0.6092 - val_loss: 0.6836 - val_mae: 0.5993\n",
      "Epoch 3/30\n",
      "363/363 [==============================] - 1s 3ms/step - loss: 0.6194 - mae: 0.5798 - val_loss: 0.6394 - val_mae: 0.5739\n",
      "Epoch 4/30\n",
      "363/363 [==============================] - 1s 3ms/step - loss: 0.5845 - mae: 0.5611 - val_loss: 0.6091 - val_mae: 0.5628\n",
      "Epoch 5/30\n",
      "363/363 [==============================] - 1s 3ms/step - loss: 0.5599 - mae: 0.5493 - val_loss: 0.5868 - val_mae: 0.5484\n",
      "Epoch 6/30\n",
      "363/363 [==============================] - 1s 3ms/step - loss: 0.5392 - mae: 0.5367 - val_loss: 0.5658 - val_mae: 0.5393\n",
      "Epoch 7/30\n",
      "363/363 [==============================] - 1s 3ms/step - loss: 0.5242 - mae: 0.5295 - val_loss: 0.5503 - val_mae: 0.5302\n",
      "Epoch 8/30\n",
      "363/363 [==============================] - 1s 3ms/step - loss: 0.5109 - mae: 0.5216 - val_loss: 0.5396 - val_mae: 0.5243\n",
      "Epoch 9/30\n",
      "363/363 [==============================] - 1s 3ms/step - loss: 0.4995 - mae: 0.5144 - val_loss: 0.5277 - val_mae: 0.5155\n",
      "Epoch 10/30\n",
      "363/363 [==============================] - 1s 3ms/step - loss: 0.4908 - mae: 0.5100 - val_loss: 0.5196 - val_mae: 0.5090\n",
      "Epoch 11/30\n",
      "363/363 [==============================] - 1s 3ms/step - loss: 0.4826 - mae: 0.5030 - val_loss: 0.5116 - val_mae: 0.5097\n",
      "Epoch 12/30\n",
      "363/363 [==============================] - 1s 3ms/step - loss: 0.4759 - mae: 0.5002 - val_loss: 0.5039 - val_mae: 0.5035\n",
      "Epoch 13/30\n",
      "363/363 [==============================] - 1s 3ms/step - loss: 0.4699 - mae: 0.4952 - val_loss: 0.4992 - val_mae: 0.5018\n",
      "Epoch 14/30\n",
      "363/363 [==============================] - 1s 3ms/step - loss: 0.4645 - mae: 0.4935 - val_loss: 0.4930 - val_mae: 0.4968\n",
      "Epoch 15/30\n",
      "363/363 [==============================] - 1s 3ms/step - loss: 0.4604 - mae: 0.4891 - val_loss: 0.4881 - val_mae: 0.4975\n",
      "Epoch 16/30\n",
      "363/363 [==============================] - 1s 3ms/step - loss: 0.4558 - mae: 0.4861 - val_loss: 0.4836 - val_mae: 0.4967\n",
      "Epoch 17/30\n",
      "363/363 [==============================] - 1s 3ms/step - loss: 0.4523 - mae: 0.4848 - val_loss: 0.4815 - val_mae: 0.4897\n",
      "Epoch 18/30\n",
      "363/363 [==============================] - 1s 3ms/step - loss: 0.4485 - mae: 0.4813 - val_loss: 0.4770 - val_mae: 0.4924\n",
      "Epoch 19/30\n",
      "363/363 [==============================] - 1s 3ms/step - loss: 0.4459 - mae: 0.4797 - val_loss: 0.4730 - val_mae: 0.4890\n",
      "Epoch 20/30\n",
      "363/363 [==============================] - 1s 3ms/step - loss: 0.4427 - mae: 0.4778 - val_loss: 0.4694 - val_mae: 0.4830\n",
      "Epoch 21/30\n",
      "363/363 [==============================] - 1s 3ms/step - loss: 0.4397 - mae: 0.4747 - val_loss: 0.4676 - val_mae: 0.4832\n",
      "Epoch 22/30\n",
      "363/363 [==============================] - 1s 3ms/step - loss: 0.4365 - mae: 0.4732 - val_loss: 0.4638 - val_mae: 0.4846\n",
      "Epoch 23/30\n",
      "363/363 [==============================] - 1s 3ms/step - loss: 0.4344 - mae: 0.4725 - val_loss: 0.4607 - val_mae: 0.4773\n",
      "Epoch 24/30\n",
      "363/363 [==============================] - 1s 3ms/step - loss: 0.4316 - mae: 0.4692 - val_loss: 0.4588 - val_mae: 0.4795\n",
      "Epoch 25/30\n",
      "363/363 [==============================] - 1s 3ms/step - loss: 0.4297 - mae: 0.4688 - val_loss: 0.4578 - val_mae: 0.4762\n",
      "Epoch 26/30\n",
      "363/363 [==============================] - 1s 3ms/step - loss: 0.4264 - mae: 0.4670 - val_loss: 0.4530 - val_mae: 0.4726\n",
      "Epoch 27/30\n",
      "363/363 [==============================] - 2s 5ms/step - loss: 0.4252 - mae: 0.4648 - val_loss: 0.4515 - val_mae: 0.4730\n",
      "Epoch 28/30\n",
      "363/363 [==============================] - 2s 5ms/step - loss: 0.4229 - mae: 0.4642 - val_loss: 0.4484 - val_mae: 0.4706\n",
      "Epoch 29/30\n",
      "363/363 [==============================] - 1s 3ms/step - loss: 0.4204 - mae: 0.4623 - val_loss: 0.4460 - val_mae: 0.4723\n",
      "Epoch 30/30\n",
      "363/363 [==============================] - 2s 4ms/step - loss: 0.4190 - mae: 0.4614 - val_loss: 0.4446 - val_mae: 0.4702\n"
     ]
    }
   ],
   "source": [
    "model_history=model.fit(x_train, y_train, epochs=30,\n",
    "                        validation_data=(x_valid,y_valid))\n"
   ]
  },
  {
   "cell_type": "code",
   "execution_count": 18,
   "metadata": {},
   "outputs": [
    {
     "data": {
      "image/png": "[encoded data removed]",
      "text/plain": [
       "<Figure size 576x360 with 1 Axes>"
      ]
     },
     "metadata": {
      "needs_background": "light"
     },
     "output_type": "display_data"
    }
   ],
   "source": [
    "pd.DataFrame(model_history.history).plot(figsize=(8,5))\n",
    "plt.grid=True\n",
    "plt.gca().set_ylim(0,1)\n",
    "plt.show()"
   ]
  },
  {
   "cell_type": "code",
   "execution_count": 19,
   "metadata": {},
   "outputs": [
    {
     "name": "stdout",
     "output_type": "stream",
     "text": [
      "162/162 [==============================] - 0s 2ms/step - loss: 0.4064 - mae: 0.4587\n"
     ]
    }
   ],
   "source": [
    "mea_test=model.evaluate(x_test, y_test)"
   ]
  },
  {
   "cell_type": "code",
   "execution_count": 20,
   "metadata": {
    "scrolled": true
   },
   "outputs": [
    {
     "data": {
      "text/plain": [
       "{'loss': [1.7733124494552612,\n",
       "  0.6828385591506958,\n",
       "  0.6193872690200806,\n",
       "  0.5845084190368652,\n",
       "  0.5599406957626343,\n",
       "  0.5392098426818848,\n",
       "  0.5242384076118469,\n",
       "  0.5109407901763916,\n",
       "  0.49949881434440613,\n",
       "  0.49080291390419006,\n",
       "  0.4825826585292816,\n",
       "  0.47587060928344727,\n",
       "  0.469937801361084,\n",
       "  0.46449628472328186,\n",
       "  0.4604410231113434,\n",
       "  0.4557715952396393,\n",
       "  0.45226728916168213,\n",
       "  0.44849443435668945,\n",
       "  0.44590991735458374,\n",
       "  0.4426584839820862,\n",
       "  0.4396754503250122,\n",
       "  0.4365384876728058,\n",
       "  0.4343501925468445,\n",
       "  0.4316456615924835,\n",
       "  0.4296626150608063,\n",
       "  0.42639434337615967,\n",
       "  0.4252004027366638,\n",
       "  0.4229363799095154,\n",
       "  0.42042648792266846,\n",
       "  0.4189649522304535],\n",
       " 'mae': [0.9718914031982422,\n",
       "  0.6092042922973633,\n",
       "  0.5797958970069885,\n",
       "  0.5611121654510498,\n",
       "  0.5492755770683289,\n",
       "  0.5366711020469666,\n",
       "  0.5295488834381104,\n",
       "  0.5216385722160339,\n",
       "  0.5144171714782715,\n",
       "  0.5100125074386597,\n",
       "  0.5029930472373962,\n",
       "  0.5002132654190063,\n",
       "  0.4951518774032593,\n",
       "  0.49347352981567383,\n",
       "  0.48908281326293945,\n",
       "  0.4860782325267792,\n",
       "  0.48475924134254456,\n",
       "  0.4812717139720917,\n",
       "  0.4797002971172333,\n",
       "  0.47781848907470703,\n",
       "  0.47465571761131287,\n",
       "  0.4732223451137543,\n",
       "  0.47250959277153015,\n",
       "  0.46921825408935547,\n",
       "  0.46884727478027344,\n",
       "  0.4670150578022003,\n",
       "  0.4647849500179291,\n",
       "  0.46418723464012146,\n",
       "  0.4622734487056732,\n",
       "  0.4613826274871826],\n",
       " 'val_loss': [0.7909772396087646,\n",
       "  0.6835758090019226,\n",
       "  0.6393580436706543,\n",
       "  0.6091030836105347,\n",
       "  0.586811900138855,\n",
       "  0.5658114552497864,\n",
       "  0.5502609610557556,\n",
       "  0.5396152138710022,\n",
       "  0.5276520848274231,\n",
       "  0.5196347236633301,\n",
       "  0.5116094350814819,\n",
       "  0.5039423108100891,\n",
       "  0.49918630719184875,\n",
       "  0.49299201369285583,\n",
       "  0.4880588948726654,\n",
       "  0.48364323377609253,\n",
       "  0.48147666454315186,\n",
       "  0.4770146906375885,\n",
       "  0.47298577427864075,\n",
       "  0.4693581163883209,\n",
       "  0.46762552857398987,\n",
       "  0.46383944153785706,\n",
       "  0.4606562554836273,\n",
       "  0.45880597829818726,\n",
       "  0.4578246474266052,\n",
       "  0.4530472159385681,\n",
       "  0.4514782428741455,\n",
       "  0.4483814537525177,\n",
       "  0.4460449814796448,\n",
       "  0.44455593824386597],\n",
       " 'val_mae': [0.6501677632331848,\n",
       "  0.5992516279220581,\n",
       "  0.5739425420761108,\n",
       "  0.5627526640892029,\n",
       "  0.5483959913253784,\n",
       "  0.5392500162124634,\n",
       "  0.5301548838615417,\n",
       "  0.5243179202079773,\n",
       "  0.5154669284820557,\n",
       "  0.5089805722236633,\n",
       "  0.5096809267997742,\n",
       "  0.5034852027893066,\n",
       "  0.5017529129981995,\n",
       "  0.496814101934433,\n",
       "  0.4975382089614868,\n",
       "  0.49668389558792114,\n",
       "  0.4897310733795166,\n",
       "  0.4923560619354248,\n",
       "  0.48898452520370483,\n",
       "  0.4830271303653717,\n",
       "  0.48316195607185364,\n",
       "  0.4845670759677887,\n",
       "  0.47732341289520264,\n",
       "  0.4795023202896118,\n",
       "  0.47618940472602844,\n",
       "  0.472587525844574,\n",
       "  0.4730278551578522,\n",
       "  0.47058913111686707,\n",
       "  0.4723473787307739,\n",
       "  0.4701724052429199]}"
      ]
     },
     "execution_count": 20,
     "metadata": {},
     "output_type": "execute_result"
    }
   ],
   "source": [
    "model_history.history"
   ]
  },
  {
   "cell_type": "code",
   "execution_count": 21,
   "metadata": {},
   "outputs": [],
   "source": [
    "x_new=x_test[:3]\n",
    "y_pred=model.predict(x_new)"
   ]
  },
  {
   "cell_type": "code",
   "execution_count": 22,
   "metadata": {},
   "outputs": [
    {
     "data": {
      "text/plain": [
       "array([[2.3074307],\n",
       "       [3.3658736],\n",
       "       [2.5753267]], dtype=float32)"
      ]
     },
     "execution_count": 22,
     "metadata": {},
     "output_type": "execute_result"
    }
   ],
   "source": [
    "y_pred"
   ]
  },
  {
   "cell_type": "code",
   "execution_count": 23,
   "metadata": {},
   "outputs": [
    {
     "data": {
      "text/plain": [
       "array([3.296, 3.384, 2.167])"
      ]
     },
     "execution_count": 23,
     "metadata": {},
     "output_type": "execute_result"
    }
   ],
   "source": [
    "y_test[:3]"
   ]
  },
  {
   "cell_type": "markdown",
   "metadata": {},
   "source": [
    "# Let use Functional API"
   ]
  },
  {
   "cell_type": "code",
   "execution_count": 24,
   "metadata": {},
   "outputs": [],
   "source": [
    "del model"
   ]
  },
  {
   "cell_type": "code",
   "execution_count": 25,
   "metadata": {},
   "outputs": [
    {
     "data": {
      "text/plain": [
       "(8,)"
      ]
     },
     "execution_count": 25,
     "metadata": {},
     "output_type": "execute_result"
    }
   ],
   "source": [
    "x_train.shape[1:]"
   ]
  },
  {
   "cell_type": "code",
   "execution_count": 26,
   "metadata": {},
   "outputs": [],
   "source": [
    "keras.backend.clear_session()"
   ]
  },
  {
   "cell_type": "code",
   "execution_count": 27,
   "metadata": {},
   "outputs": [],
   "source": [
    "input_=keras.layers.Input(shape=x_train.shape[1:])\n",
    "hidden1=keras.layers.Dense(30, activation= \"relu\")(input_)\n",
    "hidden2=keras.layers.Dense(30, activation=\"relu\")(hidden1)\n",
    "concat=keras.layers.concatenate([input_, hidden2])\n",
    "output=keras.layers.Dense(1)(concat)\n",
    "\n",
    "model2=keras.models.Model(inputs=[input_], outputs=[output])"
   ]
  },
  {
   "cell_type": "code",
   "execution_count": 28,
   "metadata": {},
   "outputs": [
    {
     "name": "stdout",
     "output_type": "stream",
     "text": [
      "Model: \"model\"\n",
      "__________________________________________________________________________________________________\n",
      "Layer (type)                    Output Shape         Param #     Connected to                     \n",
      "==================================================================================================\n",
      "input_1 (InputLayer)            [(None, 8)]          0                                            \n",
      "__________________________________________________________________________________________________\n",
      "dense (Dense)                   (None, 30)           270         input_1[0][0]                    \n",
      "__________________________________________________________________________________________________\n",
      "dense_1 (Dense)                 (None, 30)           930         dense[0][0]                      \n",
      "__________________________________________________________________________________________________\n",
      "concatenate (Concatenate)       (None, 38)           0           input_1[0][0]                    \n",
      "                                                                 dense_1[0][0]                    \n",
      "__________________________________________________________________________________________________\n",
      "dense_2 (Dense)                 (None, 1)            39          concatenate[0][0]                \n",
      "==================================================================================================\n",
      "Total params: 1,239\n",
      "Trainable params: 1,239\n",
      "Non-trainable params: 0\n",
      "__________________________________________________________________________________________________\n"
     ]
    }
   ],
   "source": [
    "model2.summary()"
   ]
  },
  {
   "cell_type": "markdown",
   "metadata": {},
   "source": [
    "# Lets Compile the Data"
   ]
  },
  {
   "cell_type": "code",
   "execution_count": 29,
   "metadata": {},
   "outputs": [],
   "source": [
    "model2.compile(loss=\"mean_squared_error\",\n",
    "             optimizer=keras.optimizers.SGD(0.001),\n",
    "              metrics=['mae'])"
   ]
  },
  {
   "cell_type": "code",
   "execution_count": 30,
   "metadata": {
    "scrolled": true
   },
   "outputs": [
    {
     "name": "stdout",
     "output_type": "stream",
     "text": [
      "Epoch 1/40\n",
      "363/363 [==============================] - 1s 3ms/step - loss: 1.5241 - mae: 0.8943 - val_loss: 0.8486 - val_mae: 0.6673\n",
      "Epoch 2/40\n",
      "363/363 [==============================] - 1s 3ms/step - loss: 0.7281 - mae: 0.6288 - val_loss: 0.7389 - val_mae: 0.6104\n",
      "Epoch 3/40\n",
      "363/363 [==============================] - 1s 3ms/step - loss: 0.6588 - mae: 0.5911 - val_loss: 0.6816 - val_mae: 0.5873\n",
      "Epoch 4/40\n",
      "363/363 [==============================] - 1s 3ms/step - loss: 0.6125 - mae: 0.5671 - val_loss: 0.6367 - val_mae: 0.5646\n",
      "Epoch 5/40\n",
      "363/363 [==============================] - 1s 3ms/step - loss: 0.5815 - mae: 0.5508 - val_loss: 0.6047 - val_mae: 0.5500\n",
      "Epoch 6/40\n",
      "363/363 [==============================] - 1s 3ms/step - loss: 0.5578 - mae: 0.5382 - val_loss: 0.5801 - val_mae: 0.5414\n",
      "Epoch 7/40\n",
      "363/363 [==============================] - 1s 3ms/step - loss: 0.5410 - mae: 0.5297 - val_loss: 0.5621 - val_mae: 0.5315\n",
      "Epoch 8/40\n",
      "363/363 [==============================] - 2s 5ms/step - loss: 0.5282 - mae: 0.5232 - val_loss: 0.5497 - val_mae: 0.5241\n",
      "Epoch 9/40\n",
      "363/363 [==============================] - 2s 4ms/step - loss: 0.5183 - mae: 0.5171 - val_loss: 0.5378 - val_mae: 0.5182\n",
      "Epoch 10/40\n",
      "363/363 [==============================] - 1s 3ms/step - loss: 0.5098 - mae: 0.5127 - val_loss: 0.5284 - val_mae: 0.5130\n",
      "Epoch 11/40\n",
      "363/363 [==============================] - 1s 3ms/step - loss: 0.5015 - mae: 0.5081 - val_loss: 0.5224 - val_mae: 0.5119\n",
      "Epoch 12/40\n",
      "363/363 [==============================] - 1s 3ms/step - loss: 0.4959 - mae: 0.5048 - val_loss: 0.5141 - val_mae: 0.5041\n",
      "Epoch 13/40\n",
      "363/363 [==============================] - 1s 3ms/step - loss: 0.4902 - mae: 0.5005 - val_loss: 0.5090 - val_mae: 0.5051\n",
      "Epoch 14/40\n",
      "363/363 [==============================] - 1s 3ms/step - loss: 0.4845 - mae: 0.4977 - val_loss: 0.5021 - val_mae: 0.4986\n",
      "Epoch 15/40\n",
      "363/363 [==============================] - 1s 3ms/step - loss: 0.4803 - mae: 0.4949 - val_loss: 0.4979 - val_mae: 0.4981\n",
      "Epoch 16/40\n",
      "363/363 [==============================] - 1s 3ms/step - loss: 0.4759 - mae: 0.4924 - val_loss: 0.4952 - val_mae: 0.4960\n",
      "Epoch 17/40\n",
      "363/363 [==============================] - 1s 3ms/step - loss: 0.4723 - mae: 0.4902 - val_loss: 0.4896 - val_mae: 0.4947\n",
      "Epoch 18/40\n",
      "363/363 [==============================] - 1s 3ms/step - loss: 0.4686 - mae: 0.4878 - val_loss: 0.4861 - val_mae: 0.4935\n",
      "Epoch 19/40\n",
      "363/363 [==============================] - 1s 3ms/step - loss: 0.4665 - mae: 0.4872 - val_loss: 0.4842 - val_mae: 0.4884\n",
      "Epoch 20/40\n",
      "363/363 [==============================] - 1s 3ms/step - loss: 0.4628 - mae: 0.4847 - val_loss: 0.4808 - val_mae: 0.4864\n",
      "Epoch 21/40\n",
      "363/363 [==============================] - 1s 3ms/step - loss: 0.4606 - mae: 0.4828 - val_loss: 0.4786 - val_mae: 0.4877\n",
      "Epoch 22/40\n",
      "363/363 [==============================] - 1s 3ms/step - loss: 0.4580 - mae: 0.4814 - val_loss: 0.4753 - val_mae: 0.4858\n",
      "Epoch 23/40\n",
      "363/363 [==============================] - 1s 3ms/step - loss: 0.4563 - mae: 0.4803 - val_loss: 0.4736 - val_mae: 0.4860\n",
      "Epoch 24/40\n",
      "363/363 [==============================] - 1s 3ms/step - loss: 0.4535 - mae: 0.4786 - val_loss: 0.4710 - val_mae: 0.4832\n",
      "Epoch 25/40\n",
      "363/363 [==============================] - 1s 4ms/step - loss: 0.4515 - mae: 0.4774 - val_loss: 0.4689 - val_mae: 0.4855\n",
      "Epoch 26/40\n",
      "363/363 [==============================] - 1s 3ms/step - loss: 0.4502 - mae: 0.4773 - val_loss: 0.4676 - val_mae: 0.4799\n",
      "Epoch 27/40\n",
      "363/363 [==============================] - 1s 3ms/step - loss: 0.4477 - mae: 0.4756 - val_loss: 0.4662 - val_mae: 0.4798\n",
      "Epoch 28/40\n",
      "363/363 [==============================] - 1s 3ms/step - loss: 0.4460 - mae: 0.4745 - val_loss: 0.4651 - val_mae: 0.4815\n",
      "Epoch 29/40\n",
      "363/363 [==============================] - 1s 3ms/step - loss: 0.4447 - mae: 0.4735 - val_loss: 0.4620 - val_mae: 0.4789\n",
      "Epoch 30/40\n",
      "363/363 [==============================] - 2s 4ms/step - loss: 0.4429 - mae: 0.4730 - val_loss: 0.4605 - val_mae: 0.4736\n",
      "Epoch 31/40\n",
      "363/363 [==============================] - 1s 3ms/step - loss: 0.4414 - mae: 0.4715 - val_loss: 0.4596 - val_mae: 0.4775\n",
      "Epoch 32/40\n",
      "363/363 [==============================] - 1s 3ms/step - loss: 0.4399 - mae: 0.4705 - val_loss: 0.4568 - val_mae: 0.4759\n",
      "Epoch 33/40\n",
      "363/363 [==============================] - 1s 3ms/step - loss: 0.4383 - mae: 0.4701 - val_loss: 0.4557 - val_mae: 0.4750\n",
      "Epoch 34/40\n",
      "363/363 [==============================] - 2s 5ms/step - loss: 0.4368 - mae: 0.4696 - val_loss: 0.4557 - val_mae: 0.4689\n",
      "Epoch 35/40\n",
      "363/363 [==============================] - 1s 3ms/step - loss: 0.4357 - mae: 0.4682 - val_loss: 0.4537 - val_mae: 0.4705\n",
      "Epoch 36/40\n",
      "363/363 [==============================] - 1s 3ms/step - loss: 0.4346 - mae: 0.4673 - val_loss: 0.4511 - val_mae: 0.4729\n",
      "Epoch 37/40\n",
      "363/363 [==============================] - 1s 3ms/step - loss: 0.4331 - mae: 0.4670 - val_loss: 0.4504 - val_mae: 0.4689\n",
      "Epoch 38/40\n",
      "363/363 [==============================] - 2s 5ms/step - loss: 0.4322 - mae: 0.4663 - val_loss: 0.4490 - val_mae: 0.4705\n",
      "Epoch 39/40\n",
      "363/363 [==============================] - 2s 5ms/step - loss: 0.4308 - mae: 0.4652 - val_loss: 0.4479 - val_mae: 0.4720\n",
      "Epoch 40/40\n",
      "363/363 [==============================] - 2s 5ms/step - loss: 0.4295 - mae: 0.4649 - val_loss: 0.4472 - val_mae: 0.4686\n"
     ]
    }
   ],
   "source": [
    "model_history1=model2.fit(x_train, y_train, epochs=40, validation_data=(x_valid,y_valid))"
   ]
  },
  {
   "cell_type": "code",
   "execution_count": 31,
   "metadata": {},
   "outputs": [
    {
     "name": "stdout",
     "output_type": "stream",
     "text": [
      "162/162 [==============================] - 1s 4ms/step - loss: 0.4142 - mae: 0.4607\n"
     ]
    },
    {
     "data": {
      "text/plain": [
       "[0.41417407989501953, 0.46073058247566223]"
      ]
     },
     "execution_count": 31,
     "metadata": {},
     "output_type": "execute_result"
    }
   ],
   "source": [
    "model2.evaluate(x_test, y_test)"
   ]
  },
  {
   "cell_type": "code",
   "execution_count": 32,
   "metadata": {},
   "outputs": [
    {
     "data": {
      "image/png": "[encoded data removed]",
      "text/plain": [
       "<Figure size 576x360 with 1 Axes>"
      ]
     },
     "metadata": {
      "needs_background": "light"
     },
     "output_type": "display_data"
    }
   ],
   "source": [
    "pd.DataFrame(model_history1.history).plot(figsize=(8,5))\n",
    "plt.grid=True\n",
    "plt.gca().set_ylim(0,1)\n",
    "plt.show()"
   ]
  },
  {
   "cell_type": "code",
   "execution_count": 33,
   "metadata": {},
   "outputs": [
    {
     "data": {
      "text/plain": [
       "{'loss': [1.5241433382034302,\n",
       "  0.7281047105789185,\n",
       "  0.6587681770324707,\n",
       "  0.6125198006629944,\n",
       "  0.581488311290741,\n",
       "  0.557823121547699,\n",
       "  0.5410223603248596,\n",
       "  0.5281887650489807,\n",
       "  0.5182536840438843,\n",
       "  0.5098378658294678,\n",
       "  0.5015090107917786,\n",
       "  0.4958544373512268,\n",
       "  0.4902167022228241,\n",
       "  0.48448795080184937,\n",
       "  0.4803445041179657,\n",
       "  0.47591128945350647,\n",
       "  0.47229140996932983,\n",
       "  0.4686177372932434,\n",
       "  0.46654701232910156,\n",
       "  0.4628440737724304,\n",
       "  0.4606492519378662,\n",
       "  0.45799362659454346,\n",
       "  0.45627808570861816,\n",
       "  0.4535086750984192,\n",
       "  0.45149704813957214,\n",
       "  0.4502125680446625,\n",
       "  0.4477425217628479,\n",
       "  0.4460195302963257,\n",
       "  0.4446794092655182,\n",
       "  0.4429008364677429,\n",
       "  0.44142791628837585,\n",
       "  0.43988037109375,\n",
       "  0.4383465349674225,\n",
       "  0.43675532937049866,\n",
       "  0.435666561126709,\n",
       "  0.4345501661300659,\n",
       "  0.43305492401123047,\n",
       "  0.43224090337753296,\n",
       "  0.4308406114578247,\n",
       "  0.42947131395339966],\n",
       " 'mae': [0.8943289518356323,\n",
       "  0.6288211941719055,\n",
       "  0.591090977191925,\n",
       "  0.5671197772026062,\n",
       "  0.5507833361625671,\n",
       "  0.5381780862808228,\n",
       "  0.5296993255615234,\n",
       "  0.5232332944869995,\n",
       "  0.5170600414276123,\n",
       "  0.5127201676368713,\n",
       "  0.5081435441970825,\n",
       "  0.5048136115074158,\n",
       "  0.5005398988723755,\n",
       "  0.49770399928092957,\n",
       "  0.4949462115764618,\n",
       "  0.4924063980579376,\n",
       "  0.49016082286834717,\n",
       "  0.48777687549591064,\n",
       "  0.48724278807640076,\n",
       "  0.48474669456481934,\n",
       "  0.4827789068222046,\n",
       "  0.4814397096633911,\n",
       "  0.4802902042865753,\n",
       "  0.4786112308502197,\n",
       "  0.4774489402770996,\n",
       "  0.47728589177131653,\n",
       "  0.47557368874549866,\n",
       "  0.4745276868343353,\n",
       "  0.47349125146865845,\n",
       "  0.4730193614959717,\n",
       "  0.4714837372303009,\n",
       "  0.47046440839767456,\n",
       "  0.4700932204723358,\n",
       "  0.4696272313594818,\n",
       "  0.46816006302833557,\n",
       "  0.46727022528648376,\n",
       "  0.46696776151657104,\n",
       "  0.46634799242019653,\n",
       "  0.46516484022140503,\n",
       "  0.464941143989563],\n",
       " 'val_loss': [0.848552942276001,\n",
       "  0.7389150261878967,\n",
       "  0.6815927028656006,\n",
       "  0.6367098093032837,\n",
       "  0.6046940684318542,\n",
       "  0.58008873462677,\n",
       "  0.5621293783187866,\n",
       "  0.5496575832366943,\n",
       "  0.5378255248069763,\n",
       "  0.5283623337745667,\n",
       "  0.5223557353019714,\n",
       "  0.5141106843948364,\n",
       "  0.509041965007782,\n",
       "  0.5020620822906494,\n",
       "  0.49787816405296326,\n",
       "  0.4952484965324402,\n",
       "  0.4896106719970703,\n",
       "  0.48605331778526306,\n",
       "  0.48418280482292175,\n",
       "  0.4807959198951721,\n",
       "  0.47863778471946716,\n",
       "  0.4752632975578308,\n",
       "  0.47363659739494324,\n",
       "  0.47103360295295715,\n",
       "  0.46892592310905457,\n",
       "  0.4675637185573578,\n",
       "  0.4662075340747833,\n",
       "  0.4650501012802124,\n",
       "  0.4620303511619568,\n",
       "  0.4605327844619751,\n",
       "  0.45955756306648254,\n",
       "  0.456825852394104,\n",
       "  0.45568302273750305,\n",
       "  0.45570507645606995,\n",
       "  0.4536939263343811,\n",
       "  0.45113083720207214,\n",
       "  0.45037418603897095,\n",
       "  0.4489577114582062,\n",
       "  0.4479047358036041,\n",
       "  0.44719403982162476],\n",
       " 'val_mae': [0.6673194169998169,\n",
       "  0.610354483127594,\n",
       "  0.5873134136199951,\n",
       "  0.5645771622657776,\n",
       "  0.5499697923660278,\n",
       "  0.5414124131202698,\n",
       "  0.5314639806747437,\n",
       "  0.524144172668457,\n",
       "  0.5182269811630249,\n",
       "  0.5130336880683899,\n",
       "  0.5118592381477356,\n",
       "  0.5041447877883911,\n",
       "  0.5051321983337402,\n",
       "  0.49859854578971863,\n",
       "  0.49808812141418457,\n",
       "  0.4960493743419647,\n",
       "  0.4946650564670563,\n",
       "  0.49354758858680725,\n",
       "  0.4883880913257599,\n",
       "  0.4863762855529785,\n",
       "  0.487655907869339,\n",
       "  0.4858112335205078,\n",
       "  0.4859543740749359,\n",
       "  0.4831828474998474,\n",
       "  0.48554083704948425,\n",
       "  0.47993704676628113,\n",
       "  0.479783296585083,\n",
       "  0.4814925193786621,\n",
       "  0.47891801595687866,\n",
       "  0.4736199975013733,\n",
       "  0.4774598777294159,\n",
       "  0.47588205337524414,\n",
       "  0.47501546144485474,\n",
       "  0.46889305114746094,\n",
       "  0.4704720675945282,\n",
       "  0.47285696864128113,\n",
       "  0.46893447637557983,\n",
       "  0.4704568386077881,\n",
       "  0.4720091223716736,\n",
       "  0.46864554286003113]}"
      ]
     },
     "execution_count": 33,
     "metadata": {},
     "output_type": "execute_result"
    }
   ],
   "source": [
    "model_history1.history"
   ]
  },
  {
   "cell_type": "markdown",
   "metadata": {},
   "source": [
    "# Saving & Restoring"
   ]
  },
  {
   "cell_type": "code",
   "execution_count": 34,
   "metadata": {},
   "outputs": [],
   "source": [
    "model2.save(\"model2_Housepricing.h5\")"
   ]
  },
  {
   "cell_type": "code",
   "execution_count": 35,
   "metadata": {},
   "outputs": [
    {
     "data": {
      "text/plain": [
       "'C:\\\\Users\\\\Bhumihar Rakesh\\\\Desktop\\\\Python\\\\Deep Learning'"
      ]
     },
     "execution_count": 35,
     "metadata": {},
     "output_type": "execute_result"
    }
   ],
   "source": [
    "%pwd"
   ]
  },
  {
   "cell_type": "code",
   "execution_count": 36,
   "metadata": {},
   "outputs": [
    {
     "name": "stdout",
     "output_type": "stream",
     "text": [
      "C:\\Users\\Bhumihar Rakesh\\Desktop\\Python\\Deep Learning\n"
     ]
    }
   ],
   "source": [
    "%cd C:\\Users\\Bhumihar Rakesh\\Desktop\\Python\\Deep Learning"
   ]
  },
  {
   "cell_type": "code",
   "execution_count": 37,
   "metadata": {},
   "outputs": [],
   "source": [
    "del model2"
   ]
  },
  {
   "cell_type": "code",
   "execution_count": 38,
   "metadata": {},
   "outputs": [],
   "source": [
    "keras.backend.clear_session()"
   ]
  },
  {
   "cell_type": "code",
   "execution_count": 39,
   "metadata": {},
   "outputs": [],
   "source": [
    "model3=keras.models.load_model(\"model2_Housepricing.h5\")"
   ]
  },
  {
   "cell_type": "code",
   "execution_count": 40,
   "metadata": {},
   "outputs": [
    {
     "name": "stdout",
     "output_type": "stream",
     "text": [
      "Model: \"model\"\n",
      "__________________________________________________________________________________________________\n",
      "Layer (type)                    Output Shape         Param #     Connected to                     \n",
      "==================================================================================================\n",
      "input_1 (InputLayer)            [(None, 8)]          0                                            \n",
      "__________________________________________________________________________________________________\n",
      "dense (Dense)                   (None, 30)           270         input_1[0][0]                    \n",
      "__________________________________________________________________________________________________\n",
      "dense_1 (Dense)                 (None, 30)           930         dense[0][0]                      \n",
      "__________________________________________________________________________________________________\n",
      "concatenate (Concatenate)       (None, 38)           0           input_1[0][0]                    \n",
      "                                                                 dense_1[0][0]                    \n",
      "__________________________________________________________________________________________________\n",
      "dense_2 (Dense)                 (None, 1)            39          concatenate[0][0]                \n",
      "==================================================================================================\n",
      "Total params: 1,239\n",
      "Trainable params: 1,239\n",
      "Non-trainable params: 0\n",
      "__________________________________________________________________________________________________\n"
     ]
    }
   ],
   "source": [
    "model3.summary(0)"
   ]
  },
  {
   "cell_type": "markdown",
   "metadata": {},
   "source": [
    "# CallBacks function is very usefull to save your model with each epoch run"
   ]
  },
  {
   "cell_type": "code",
   "execution_count": null,
   "metadata": {},
   "outputs": [],
   "source": []
  },
  {
   "cell_type": "code",
   "execution_count": 41,
   "metadata": {},
   "outputs": [],
   "source": [
    "model_new=keras.models.Sequential([\n",
    "    keras.layers.Dense(30, activation='relu',input_shape=[8]),\n",
    "    keras.layers.Dense(30,activation='relu'),\n",
    "    keras.layers.Dense(1)    \n",
    "])"
   ]
  },
  {
   "cell_type": "code",
   "execution_count": 42,
   "metadata": {},
   "outputs": [],
   "source": [
    "model_new.compile(loss=\"mean_squared_error\",\n",
    "             optimizer=keras.optimizers.SGD(0.001),\n",
    "              metrics=['mae'])"
   ]
  },
  {
   "cell_type": "markdown",
   "metadata": {},
   "source": [
    "# we are creating call back so that we can see each epoch and that is also get saved in %Pwd.\n",
    "(\"model_new-{epoch:02d}.h5\") in this \"model_new\" is file name & {epoch:02d} is with each epoch run it will save file with name model_new_01 and 02d represent with number of digit like if you run epoch with 3 digit like 300 then you have to mention 03d"
   ]
  },
  {
   "cell_type": "code",
   "execution_count": 43,
   "metadata": {},
   "outputs": [],
   "source": [
    "checkpoint_cb=keras.callbacks.ModelCheckpoint(\"model_new-{epoch:02d}.h5\")"
   ]
  },
  {
   "cell_type": "code",
   "execution_count": 44,
   "metadata": {
    "scrolled": true
   },
   "outputs": [
    {
     "name": "stdout",
     "output_type": "stream",
     "text": [
      "Epoch 1/10\n",
      "363/363 [==============================] - 2s 7ms/step - loss: 2.2160 - mae: 1.1102 - val_loss: 1.0337 - val_mae: 0.7761\n",
      "Epoch 2/10\n",
      "363/363 [==============================] - 2s 6ms/step - loss: 0.9609 - mae: 0.7054 - val_loss: 0.7814 - val_mae: 0.6616\n",
      "Epoch 3/10\n",
      "363/363 [==============================] - 2s 6ms/step - loss: 0.7335 - mae: 0.6400 - val_loss: 0.7243 - val_mae: 0.6179\n",
      "Epoch 4/10\n",
      "363/363 [==============================] - 2s 5ms/step - loss: 0.6775 - mae: 0.6092 - val_loss: 0.6862 - val_mae: 0.6002\n",
      "Epoch 5/10\n",
      "363/363 [==============================] - 2s 4ms/step - loss: 0.6418 - mae: 0.5908 - val_loss: 0.6565 - val_mae: 0.5811\n",
      "Epoch 6/10\n",
      "363/363 [==============================] - 2s 6ms/step - loss: 0.6141 - mae: 0.5744 - val_loss: 0.6317 - val_mae: 0.5714\n",
      "Epoch 7/10\n",
      "363/363 [==============================] - 2s 6ms/step - loss: 0.5916 - mae: 0.5635 - val_loss: 0.6106 - val_mae: 0.5607\n",
      "Epoch 8/10\n",
      "363/363 [==============================] - 2s 6ms/step - loss: 0.5734 - mae: 0.5543 - val_loss: 0.5922 - val_mae: 0.5494\n",
      "Epoch 9/10\n",
      "363/363 [==============================] - 2s 6ms/step - loss: 0.5581 - mae: 0.5454 - val_loss: 0.5766 - val_mae: 0.5406\n",
      "Epoch 10/10\n",
      "363/363 [==============================] - 2s 5ms/step - loss: 0.5446 - mae: 0.5387 - val_loss: 0.5632 - val_mae: 0.5359\n"
     ]
    }
   ],
   "source": [
    "model_history=model_new.fit(x_train, y_train, epochs=10,\n",
    "                        validation_data=(x_valid,y_valid),\n",
    "                        callbacks=[checkpoint_cb])\n"
   ]
  },
  {
   "cell_type": "code",
   "execution_count": 45,
   "metadata": {},
   "outputs": [],
   "source": [
    "del model_new"
   ]
  },
  {
   "cell_type": "code",
   "execution_count": 46,
   "metadata": {},
   "outputs": [],
   "source": [
    "keras.backend.clear_session()"
   ]
  },
  {
   "cell_type": "code",
   "execution_count": 56,
   "metadata": {},
   "outputs": [],
   "source": [
    "model_new=keras.models.load_model(\"model_new-10.h5\")"
   ]
  },
  {
   "cell_type": "code",
   "execution_count": 57,
   "metadata": {},
   "outputs": [
    {
     "name": "stdout",
     "output_type": "stream",
     "text": [
      "Model: \"sequential\"\n",
      "_________________________________________________________________\n",
      "Layer (type)                 Output Shape              Param #   \n",
      "=================================================================\n",
      "dense (Dense)                (None, 30)                270       \n",
      "_________________________________________________________________\n",
      "dense_1 (Dense)              (None, 30)                930       \n",
      "_________________________________________________________________\n",
      "dense_2 (Dense)              (None, 1)                 31        \n",
      "=================================================================\n",
      "Total params: 1,231\n",
      "Trainable params: 1,231\n",
      "Non-trainable params: 0\n",
      "_________________________________________________________________\n"
     ]
    }
   ],
   "source": [
    "model_new.summary()"
   ]
  },
  {
   "cell_type": "code",
   "execution_count": 58,
   "metadata": {},
   "outputs": [
    {
     "name": "stdout",
     "output_type": "stream",
     "text": [
      "162/162 [==============================] - 0s 2ms/step - loss: 0.5247 - mean_absolute_error: 0.5302\n"
     ]
    },
    {
     "data": {
      "text/plain": [
       "[0.5247257351875305, 0.5302442312240601]"
      ]
     },
     "execution_count": 58,
     "metadata": {},
     "output_type": "execute_result"
    }
   ],
   "source": [
    "model_new.evaluate(x_test, y_test)"
   ]
  },
  {
   "cell_type": "markdown",
   "metadata": {},
   "source": [
    "# Save_best_only =True"
   ]
  },
  {
   "cell_type": "markdown",
   "metadata": {},
   "source": [
    "We have seen that we are able to save 10 model in our directory but what if you get your best model at 8 epoch so for that we will use \"save_best_only=True\""
   ]
  },
  {
   "cell_type": "code",
   "execution_count": 59,
   "metadata": {},
   "outputs": [],
   "source": [
    "del model_new"
   ]
  },
  {
   "cell_type": "code",
   "execution_count": 60,
   "metadata": {},
   "outputs": [],
   "source": [
    "keras.backend.clear_session()"
   ]
  },
  {
   "cell_type": "code",
   "execution_count": 61,
   "metadata": {},
   "outputs": [],
   "source": [
    "model_new=keras.models.Sequential([\n",
    "    keras.layers.Dense(30, activation='relu',input_shape=[8]),\n",
    "    keras.layers.Dense(30,activation='relu'),\n",
    "    keras.layers.Dense(1)    \n",
    "])"
   ]
  },
  {
   "cell_type": "code",
   "execution_count": 62,
   "metadata": {},
   "outputs": [],
   "source": [
    "model_new.compile(loss=\"mean_squared_error\",\n",
    "             optimizer=keras.optimizers.SGD(0.001),\n",
    "              metrics=['mae'])"
   ]
  },
  {
   "cell_type": "markdown",
   "metadata": {},
   "source": [
    "# While you callback you need to mention the file name as best_model and save_best_only= True"
   ]
  },
  {
   "cell_type": "code",
   "execution_count": 64,
   "metadata": {},
   "outputs": [],
   "source": [
    "checkpoint_cb=keras.callbacks.ModelCheckpoint(\"Best_Model.h5\", save_best_only=True)"
   ]
  },
  {
   "cell_type": "code",
   "execution_count": 65,
   "metadata": {},
   "outputs": [
    {
     "name": "stdout",
     "output_type": "stream",
     "text": [
      "Epoch 1/10\n",
      "363/363 [==============================] - 1s 3ms/step - loss: 0.5196 - mae: 0.5249 - val_loss: 0.5437 - val_mae: 0.5220\n",
      "Epoch 2/10\n",
      "363/363 [==============================] - 1s 3ms/step - loss: 0.5083 - mae: 0.5186 - val_loss: 0.5305 - val_mae: 0.5163\n",
      "Epoch 3/10\n",
      "363/363 [==============================] - 2s 5ms/step - loss: 0.4988 - mae: 0.5113 - val_loss: 0.5209 - val_mae: 0.5169\n",
      "Epoch 4/10\n",
      "363/363 [==============================] - 2s 5ms/step - loss: 0.4910 - mae: 0.5079 - val_loss: 0.5122 - val_mae: 0.5104\n",
      "Epoch 5/10\n",
      "363/363 [==============================] - 1s 3ms/step - loss: 0.4846 - mae: 0.5027 - val_loss: 0.5073 - val_mae: 0.5040\n",
      "Epoch 6/10\n",
      "363/363 [==============================] - 1s 4ms/step - loss: 0.4783 - mae: 0.4998 - val_loss: 0.4989 - val_mae: 0.4991\n",
      "Epoch 7/10\n",
      "363/363 [==============================] - 1s 4ms/step - loss: 0.4719 - mae: 0.4949 - val_loss: 0.4930 - val_mae: 0.5000\n",
      "Epoch 8/10\n",
      "363/363 [==============================] - 1s 4ms/step - loss: 0.4671 - mae: 0.4927 - val_loss: 0.4885 - val_mae: 0.4960\n",
      "Epoch 9/10\n",
      "363/363 [==============================] - 2s 5ms/step - loss: 0.4638 - mae: 0.4899 - val_loss: 0.4839 - val_mae: 0.4928\n",
      "Epoch 10/10\n",
      "363/363 [==============================] - 2s 5ms/step - loss: 0.4592 - mae: 0.4873 - val_loss: 0.4806 - val_mae: 0.4881\n"
     ]
    }
   ],
   "source": [
    "model_history=model_new.fit(x_train, y_train, epochs=10,\n",
    "                        validation_data=(x_valid,y_valid),\n",
    "                        callbacks=[checkpoint_cb])"
   ]
  },
  {
   "cell_type": "code",
   "execution_count": 66,
   "metadata": {},
   "outputs": [],
   "source": [
    "model_new=keras.models.load_model(\"Best_Model.h5\")"
   ]
  },
  {
   "cell_type": "code",
   "execution_count": 67,
   "metadata": {},
   "outputs": [
    {
     "name": "stdout",
     "output_type": "stream",
     "text": [
      "162/162 [==============================] - 0s 2ms/step - loss: 0.4407 - mean_absolute_error: 0.4794\n"
     ]
    },
    {
     "data": {
      "text/plain": [
       "[0.44065314531326294, 0.47939708828926086]"
      ]
     },
     "execution_count": 67,
     "metadata": {},
     "output_type": "execute_result"
    }
   ],
   "source": [
    "model_new.evaluate(x_test, y_test)"
   ]
  },
  {
   "cell_type": "markdown",
   "metadata": {},
   "source": [
    "# Save_Best_only =Model by= Early_stoping (callback function)"
   ]
  },
  {
   "cell_type": "code",
   "execution_count": 68,
   "metadata": {},
   "outputs": [],
   "source": [
    "del model_new"
   ]
  },
  {
   "cell_type": "code",
   "execution_count": 73,
   "metadata": {},
   "outputs": [],
   "source": [
    "keras.backend.clear_session()"
   ]
  },
  {
   "cell_type": "code",
   "execution_count": 74,
   "metadata": {},
   "outputs": [],
   "source": [
    "model_new=keras.models.Sequential([\n",
    "    keras.layers.Dense(30, activation='relu',input_shape=[8]),\n",
    "    keras.layers.Dense(30,activation='relu'),\n",
    "    keras.layers.Dense(1)    \n",
    "])"
   ]
  },
  {
   "cell_type": "code",
   "execution_count": 75,
   "metadata": {},
   "outputs": [],
   "source": [
    "model_new.compile(loss=\"mean_squared_error\",\n",
    "             optimizer=keras.optimizers.SGD(0.001),\n",
    "              metrics=['mae'])"
   ]
  },
  {
   "cell_type": "markdown",
   "metadata": {},
   "source": [
    "To save your model you have to call callback function and with that file name \"Early_stoping_Best_Model.h5\""
   ]
  },
  {
   "cell_type": "code",
   "execution_count": 85,
   "metadata": {},
   "outputs": [],
   "source": [
    "checkpoint_cb=keras.callbacks.ModelCheckpoint(\"Early_Best_Model.h5\", save_best_only=True)"
   ]
  },
  {
   "cell_type": "markdown",
   "metadata": {},
   "source": [
    "we willl use early_stopping_cb variable with patience 10, It means once you can best model it will check for 10 other epoch to find best value and ince it find best value it will early stop"
   ]
  },
  {
   "cell_type": "code",
   "execution_count": 87,
   "metadata": {},
   "outputs": [],
   "source": [
    "early_stoping_cb=keras.callbacks.EarlyStopping(patience=10,\n",
    "                                               restore_best_weights=True)"
   ]
  },
  {
   "cell_type": "code",
   "execution_count": 84,
   "metadata": {},
   "outputs": [
    {
     "name": "stdout",
     "output_type": "stream",
     "text": [
      "Epoch 1/300\n",
      "363/363 [==============================] - 1s 3ms/step - loss: 0.3077 - mae: 0.3871 - val_loss: 0.3361 - val_mae: 0.3983\n",
      "Epoch 2/300\n",
      "363/363 [==============================] - 1s 4ms/step - loss: 0.3076 - mae: 0.3867 - val_loss: 0.3356 - val_mae: 0.3996\n",
      "Epoch 3/300\n",
      "363/363 [==============================] - 2s 5ms/step - loss: 0.3073 - mae: 0.3871 - val_loss: 0.3355 - val_mae: 0.3973\n",
      "Epoch 4/300\n",
      "363/363 [==============================] - 2s 4ms/step - loss: 0.3072 - mae: 0.3869 - val_loss: 0.3391 - val_mae: 0.3955\n",
      "Epoch 5/300\n",
      "363/363 [==============================] - 2s 5ms/step - loss: 0.3071 - mae: 0.3866 - val_loss: 0.3384 - val_mae: 0.3955\n",
      "Epoch 6/300\n",
      "363/363 [==============================] - 1s 4ms/step - loss: 0.3066 - mae: 0.3856 - val_loss: 0.3375 - val_mae: 0.3957\n",
      "Epoch 7/300\n",
      "363/363 [==============================] - 1s 3ms/step - loss: 0.3069 - mae: 0.3867 - val_loss: 0.3384 - val_mae: 0.3950\n",
      "Epoch 8/300\n",
      "363/363 [==============================] - 2s 5ms/step - loss: 0.3064 - mae: 0.3854 - val_loss: 0.3373 - val_mae: 0.3982\n",
      "Epoch 9/300\n",
      "363/363 [==============================] - 2s 6ms/step - loss: 0.3076 - mae: 0.3861 - val_loss: 0.3377 - val_mae: 0.3954\n",
      "Epoch 10/300\n",
      "363/363 [==============================] - 2s 4ms/step - loss: 0.3069 - mae: 0.3860 - val_loss: 0.3339 - val_mae: 0.3998\n",
      "Epoch 11/300\n",
      "363/363 [==============================] - 1s 4ms/step - loss: 0.3059 - mae: 0.3865 - val_loss: 0.3361 - val_mae: 0.3964\n",
      "Epoch 12/300\n",
      "363/363 [==============================] - 1s 3ms/step - loss: 0.3059 - mae: 0.3854 - val_loss: 0.3347 - val_mae: 0.3966\n",
      "Epoch 13/300\n",
      "363/363 [==============================] - 2s 5ms/step - loss: 0.3055 - mae: 0.3853 - val_loss: 0.3346 - val_mae: 0.3981\n",
      "Epoch 14/300\n",
      "363/363 [==============================] - 2s 5ms/step - loss: 0.3054 - mae: 0.3854 - val_loss: 0.3338 - val_mae: 0.3969\n",
      "Epoch 15/300\n",
      "363/363 [==============================] - 2s 5ms/step - loss: 0.3050 - mae: 0.3851 - val_loss: 0.3353 - val_mae: 0.3943\n",
      "Epoch 16/300\n",
      "363/363 [==============================] - 2s 5ms/step - loss: 0.3050 - mae: 0.3848 - val_loss: 0.3337 - val_mae: 0.3959\n",
      "Epoch 17/300\n",
      "363/363 [==============================] - 1s 3ms/step - loss: 0.3046 - mae: 0.3847 - val_loss: 0.3332 - val_mae: 0.3979\n",
      "Epoch 18/300\n",
      "363/363 [==============================] - 1s 4ms/step - loss: 0.3047 - mae: 0.3853 - val_loss: 0.3364 - val_mae: 0.3952\n",
      "Epoch 19/300\n",
      "363/363 [==============================] - 2s 5ms/step - loss: 0.3070 - mae: 0.3856 - val_loss: 0.3365 - val_mae: 0.3947\n",
      "Epoch 20/300\n",
      "363/363 [==============================] - 2s 6ms/step - loss: 0.3044 - mae: 0.3840 - val_loss: 0.3336 - val_mae: 0.3983\n",
      "Epoch 21/300\n",
      "363/363 [==============================] - 2s 4ms/step - loss: 0.3047 - mae: 0.3850 - val_loss: 0.3341 - val_mae: 0.3966\n",
      "Epoch 22/300\n",
      "363/363 [==============================] - 1s 3ms/step - loss: 0.3044 - mae: 0.3847 - val_loss: 0.3356 - val_mae: 0.3989\n",
      "Epoch 23/300\n",
      "363/363 [==============================] - 1s 4ms/step - loss: 0.3059 - mae: 0.3852 - val_loss: 0.3328 - val_mae: 0.3969\n",
      "Epoch 24/300\n",
      "363/363 [==============================] - 1s 3ms/step - loss: 0.3036 - mae: 0.3842 - val_loss: 0.3328 - val_mae: 0.3985\n",
      "Epoch 25/300\n",
      "363/363 [==============================] - 1s 4ms/step - loss: 0.3033 - mae: 0.3842 - val_loss: 0.3321 - val_mae: 0.3987\n",
      "Epoch 26/300\n",
      "363/363 [==============================] - 2s 5ms/step - loss: 0.3040 - mae: 0.3846 - val_loss: 0.3363 - val_mae: 0.3938\n",
      "Epoch 27/300\n",
      "363/363 [==============================] - 2s 5ms/step - loss: 0.3035 - mae: 0.3835 - val_loss: 0.3329 - val_mae: 0.3964\n",
      "Epoch 28/300\n",
      "363/363 [==============================] - 2s 4ms/step - loss: 0.3031 - mae: 0.3839 - val_loss: 0.3341 - val_mae: 0.3976\n",
      "Epoch 29/300\n",
      "363/363 [==============================] - 1s 3ms/step - loss: 0.3031 - mae: 0.3839 - val_loss: 0.3323 - val_mae: 0.3962\n",
      "Epoch 30/300\n",
      "363/363 [==============================] - 1s 4ms/step - loss: 0.3031 - mae: 0.3835 - val_loss: 0.3324 - val_mae: 0.3965\n",
      "Epoch 31/300\n",
      "363/363 [==============================] - 2s 5ms/step - loss: 0.3029 - mae: 0.3841 - val_loss: 0.3358 - val_mae: 0.3954\n",
      "Epoch 32/300\n",
      "363/363 [==============================] - 2s 5ms/step - loss: 0.3033 - mae: 0.3841 - val_loss: 0.3333 - val_mae: 0.3944\n",
      "Epoch 33/300\n",
      "363/363 [==============================] - 1s 3ms/step - loss: 0.3018 - mae: 0.3829 - val_loss: 0.3353 - val_mae: 0.3942\n",
      "Epoch 34/300\n",
      "363/363 [==============================] - 2s 5ms/step - loss: 0.3023 - mae: 0.3832 - val_loss: 0.3342 - val_mae: 0.3939\n",
      "Epoch 35/300\n",
      "363/363 [==============================] - 2s 5ms/step - loss: 0.3023 - mae: 0.3829 - val_loss: 0.3316 - val_mae: 0.3970\n",
      "Epoch 36/300\n",
      "363/363 [==============================] - 2s 4ms/step - loss: 0.3018 - mae: 0.3828 - val_loss: 0.3373 - val_mae: 0.3957\n",
      "Epoch 37/300\n",
      "363/363 [==============================] - 1s 3ms/step - loss: 0.3018 - mae: 0.3832 - val_loss: 0.3324 - val_mae: 0.3939\n",
      "Epoch 38/300\n",
      "363/363 [==============================] - 2s 5ms/step - loss: 0.3015 - mae: 0.3824 - val_loss: 0.3350 - val_mae: 0.3937\n",
      "Epoch 39/300\n",
      "363/363 [==============================] - 2s 4ms/step - loss: 0.3027 - mae: 0.3832 - val_loss: 0.3333 - val_mae: 0.3934\n",
      "Epoch 40/300\n",
      "363/363 [==============================] - 2s 5ms/step - loss: 0.3019 - mae: 0.3825 - val_loss: 0.3322 - val_mae: 0.3948\n",
      "Epoch 41/300\n",
      "363/363 [==============================] - 2s 6ms/step - loss: 0.3011 - mae: 0.3825 - val_loss: 0.3335 - val_mae: 0.3945\n",
      "Epoch 42/300\n",
      "363/363 [==============================] - 2s 4ms/step - loss: 0.3021 - mae: 0.3825 - val_loss: 0.3328 - val_mae: 0.3940\n",
      "Epoch 43/300\n",
      "363/363 [==============================] - 1s 4ms/step - loss: 0.3012 - mae: 0.3826 - val_loss: 0.3312 - val_mae: 0.3963\n",
      "Epoch 44/300\n",
      "363/363 [==============================] - 2s 5ms/step - loss: 0.3007 - mae: 0.3821 - val_loss: 0.3319 - val_mae: 0.3962\n",
      "Epoch 45/300\n",
      "363/363 [==============================] - 2s 5ms/step - loss: 0.3014 - mae: 0.3822 - val_loss: 0.3317 - val_mae: 0.3951\n",
      "Epoch 46/300\n",
      "363/363 [==============================] - 2s 5ms/step - loss: 0.3003 - mae: 0.3821 - val_loss: 0.3306 - val_mae: 0.3975\n",
      "Epoch 47/300\n",
      "363/363 [==============================] - 2s 5ms/step - loss: 0.3007 - mae: 0.3820 - val_loss: 0.3347 - val_mae: 0.3940\n",
      "Epoch 48/300\n",
      "363/363 [==============================] - 1s 4ms/step - loss: 0.3014 - mae: 0.3819 - val_loss: 0.3311 - val_mae: 0.3968\n",
      "Epoch 49/300\n",
      "363/363 [==============================] - 1s 3ms/step - loss: 0.3004 - mae: 0.3819 - val_loss: 0.3307 - val_mae: 0.3967\n",
      "Epoch 50/300\n",
      "363/363 [==============================] - 2s 4ms/step - loss: 0.3003 - mae: 0.3820 - val_loss: 0.3323 - val_mae: 0.3927\n",
      "Epoch 51/300\n",
      "363/363 [==============================] - 2s 5ms/step - loss: 0.2995 - mae: 0.3809 - val_loss: 0.3321 - val_mae: 0.3935\n",
      "Epoch 52/300\n",
      "363/363 [==============================] - 1s 2ms/step - loss: 0.2999 - mae: 0.3815 - val_loss: 0.3350 - val_mae: 0.3928\n",
      "Epoch 53/300\n",
      "363/363 [==============================] - 1s 2ms/step - loss: 0.3002 - mae: 0.3814 - val_loss: 0.3316 - val_mae: 0.3962\n",
      "Epoch 54/300\n",
      "363/363 [==============================] - 1s 3ms/step - loss: 0.2992 - mae: 0.3809 - val_loss: 0.3318 - val_mae: 0.3976\n",
      "Epoch 55/300\n",
      "363/363 [==============================] - 1s 4ms/step - loss: 0.2992 - mae: 0.3812 - val_loss: 0.3304 - val_mae: 0.3936\n",
      "Epoch 56/300\n",
      "363/363 [==============================] - 2s 5ms/step - loss: 0.2993 - mae: 0.3810 - val_loss: 0.3323 - val_mae: 0.3920\n",
      "Epoch 57/300\n",
      "363/363 [==============================] - 1s 4ms/step - loss: 0.3007 - mae: 0.3811 - val_loss: 0.3306 - val_mae: 0.3969\n",
      "Epoch 58/300\n",
      "363/363 [==============================] - 2s 5ms/step - loss: 0.2992 - mae: 0.3812 - val_loss: 0.3337 - val_mae: 0.3921\n",
      "Epoch 59/300\n",
      "363/363 [==============================] - 2s 5ms/step - loss: 0.2998 - mae: 0.3808 - val_loss: 0.3307 - val_mae: 0.3923\n",
      "Epoch 60/300\n",
      "363/363 [==============================] - 2s 5ms/step - loss: 0.2987 - mae: 0.3806 - val_loss: 0.3305 - val_mae: 0.3934\n",
      "Epoch 61/300\n",
      "363/363 [==============================] - 2s 5ms/step - loss: 0.2987 - mae: 0.3808 - val_loss: 0.3331 - val_mae: 0.3918\n",
      "Epoch 62/300\n",
      "363/363 [==============================] - 2s 5ms/step - loss: 0.2988 - mae: 0.3805 - val_loss: 0.3300 - val_mae: 0.3932\n",
      "Epoch 63/300\n",
      "363/363 [==============================] - 1s 3ms/step - loss: 0.2979 - mae: 0.3805 - val_loss: 0.3314 - val_mae: 0.3919\n",
      "Epoch 64/300\n",
      "363/363 [==============================] - 2s 4ms/step - loss: 0.2988 - mae: 0.3807 - val_loss: 0.3299 - val_mae: 0.3922\n",
      "Epoch 65/300\n",
      "363/363 [==============================] - 1s 4ms/step - loss: 0.2977 - mae: 0.3795 - val_loss: 0.3291 - val_mae: 0.3939\n",
      "Epoch 66/300\n",
      "363/363 [==============================] - 2s 4ms/step - loss: 0.2977 - mae: 0.3799 - val_loss: 0.3297 - val_mae: 0.3932\n",
      "Epoch 67/300\n",
      "363/363 [==============================] - 1s 3ms/step - loss: 0.2977 - mae: 0.3801 - val_loss: 0.3291 - val_mae: 0.3942\n",
      "Epoch 68/300\n",
      "363/363 [==============================] - 2s 5ms/step - loss: 0.2972 - mae: 0.3794 - val_loss: 0.3290 - val_mae: 0.3926\n",
      "Epoch 69/300\n",
      "363/363 [==============================] - 2s 4ms/step - loss: 0.2971 - mae: 0.3796 - val_loss: 0.3295 - val_mae: 0.3918\n",
      "Epoch 70/300\n",
      "363/363 [==============================] - 1s 4ms/step - loss: 0.2969 - mae: 0.3794 - val_loss: 0.3300 - val_mae: 0.3917\n",
      "Epoch 71/300\n",
      "363/363 [==============================] - 1s 3ms/step - loss: 0.2978 - mae: 0.3799 - val_loss: 0.3284 - val_mae: 0.3934\n",
      "Epoch 72/300\n",
      "363/363 [==============================] - 2s 4ms/step - loss: 0.2986 - mae: 0.3792 - val_loss: 0.3285 - val_mae: 0.3977\n",
      "Epoch 73/300\n",
      "363/363 [==============================] - 1s 4ms/step - loss: 0.2966 - mae: 0.3792 - val_loss: 0.3287 - val_mae: 0.3922\n",
      "Epoch 74/300\n",
      "363/363 [==============================] - 1s 3ms/step - loss: 0.2961 - mae: 0.3786 - val_loss: 0.3300 - val_mae: 0.3921\n",
      "Epoch 75/300\n",
      "363/363 [==============================] - 1s 3ms/step - loss: 0.2964 - mae: 0.3786 - val_loss: 0.3315 - val_mae: 0.3923\n",
      "Epoch 76/300\n",
      "363/363 [==============================] - 1s 3ms/step - loss: 0.2958 - mae: 0.3782 - val_loss: 0.3297 - val_mae: 0.3947\n",
      "Epoch 77/300\n",
      "363/363 [==============================] - 1s 3ms/step - loss: 0.2967 - mae: 0.3788 - val_loss: 0.3309 - val_mae: 0.3901\n",
      "Epoch 78/300\n",
      "363/363 [==============================] - 1s 3ms/step - loss: 0.2956 - mae: 0.3786 - val_loss: 0.3307 - val_mae: 0.3894\n",
      "Epoch 79/300\n",
      "363/363 [==============================] - 1s 3ms/step - loss: 0.2959 - mae: 0.3782 - val_loss: 0.3306 - val_mae: 0.3904\n",
      "Epoch 80/300\n",
      "363/363 [==============================] - 2s 4ms/step - loss: 0.2947 - mae: 0.3779 - val_loss: 0.3289 - val_mae: 0.3937\n",
      "Epoch 81/300\n",
      "363/363 [==============================] - 2s 4ms/step - loss: 0.2955 - mae: 0.3781 - val_loss: 0.3280 - val_mae: 0.3905\n",
      "Epoch 82/300\n",
      "363/363 [==============================] - 1s 3ms/step - loss: 0.2953 - mae: 0.3781 - val_loss: 0.3272 - val_mae: 0.3924\n",
      "Epoch 83/300\n",
      "363/363 [==============================] - 1s 3ms/step - loss: 0.2954 - mae: 0.3778 - val_loss: 0.3271 - val_mae: 0.3924\n",
      "Epoch 84/300\n",
      "363/363 [==============================] - 1s 3ms/step - loss: 0.2950 - mae: 0.3775 - val_loss: 0.3286 - val_mae: 0.3905\n",
      "Epoch 85/300\n",
      "363/363 [==============================] - 1s 4ms/step - loss: 0.2945 - mae: 0.3773 - val_loss: 0.3315 - val_mae: 0.3905\n",
      "Epoch 86/300\n",
      "363/363 [==============================] - 1s 3ms/step - loss: 0.2952 - mae: 0.3776 - val_loss: 0.3292 - val_mae: 0.3895\n",
      "Epoch 87/300\n",
      "363/363 [==============================] - 1s 3ms/step - loss: 0.2947 - mae: 0.3771 - val_loss: 0.3298 - val_mae: 0.3891\n",
      "Epoch 88/300\n",
      "363/363 [==============================] - 1s 3ms/step - loss: 0.2951 - mae: 0.3771 - val_loss: 0.3260 - val_mae: 0.3908\n",
      "Epoch 89/300\n",
      "363/363 [==============================] - 2s 4ms/step - loss: 0.2945 - mae: 0.3776 - val_loss: 0.3307 - val_mae: 0.3883\n",
      "Epoch 90/300\n",
      "363/363 [==============================] - 2s 5ms/step - loss: 0.2946 - mae: 0.3773 - val_loss: 0.3406 - val_mae: 0.3922\n",
      "Epoch 91/300\n",
      "363/363 [==============================] - 2s 5ms/step - loss: 0.2947 - mae: 0.3771 - val_loss: 0.3280 - val_mae: 0.3887\n",
      "Epoch 92/300\n",
      "363/363 [==============================] - 2s 5ms/step - loss: 0.2942 - mae: 0.3766 - val_loss: 0.3255 - val_mae: 0.3925\n",
      "Epoch 93/300\n",
      "363/363 [==============================] - 2s 5ms/step - loss: 0.2940 - mae: 0.3767 - val_loss: 0.3261 - val_mae: 0.3942\n",
      "Epoch 94/300\n",
      "363/363 [==============================] - 2s 5ms/step - loss: 0.2932 - mae: 0.3766 - val_loss: 0.3283 - val_mae: 0.3923\n",
      "Epoch 95/300\n",
      "363/363 [==============================] - 2s 5ms/step - loss: 0.2939 - mae: 0.3767 - val_loss: 0.3340 - val_mae: 0.3903\n",
      "Epoch 96/300\n",
      "363/363 [==============================] - 2s 5ms/step - loss: 0.2984 - mae: 0.3777 - val_loss: 0.3277 - val_mae: 0.3928\n",
      "Epoch 97/300\n",
      "363/363 [==============================] - 1s 2ms/step - loss: 0.2933 - mae: 0.3762 - val_loss: 0.3256 - val_mae: 0.3918\n",
      "Epoch 98/300\n",
      "363/363 [==============================] - 2s 4ms/step - loss: 0.2947 - mae: 0.3770 - val_loss: 0.3283 - val_mae: 0.3887\n",
      "Epoch 99/300\n",
      "363/363 [==============================] - 2s 4ms/step - loss: 0.2930 - mae: 0.3757 - val_loss: 0.3250 - val_mae: 0.3917\n",
      "Epoch 100/300\n",
      "363/363 [==============================] - 2s 5ms/step - loss: 0.2930 - mae: 0.3761 - val_loss: 0.3274 - val_mae: 0.3895\n",
      "Epoch 101/300\n",
      "363/363 [==============================] - 2s 4ms/step - loss: 0.2933 - mae: 0.3760 - val_loss: 0.3263 - val_mae: 0.3882\n",
      "Epoch 102/300\n",
      "363/363 [==============================] - 1s 4ms/step - loss: 0.2926 - mae: 0.3761 - val_loss: 0.3264 - val_mae: 0.3885\n",
      "Epoch 103/300\n",
      "363/363 [==============================] - 1s 3ms/step - loss: 0.2930 - mae: 0.3761 - val_loss: 0.3254 - val_mae: 0.3934\n",
      "Epoch 104/300\n",
      "363/363 [==============================] - 1s 3ms/step - loss: 0.2949 - mae: 0.3762 - val_loss: 0.3299 - val_mae: 0.3889\n",
      "Epoch 105/300\n",
      "363/363 [==============================] - 1s 3ms/step - loss: 0.2930 - mae: 0.3753 - val_loss: 0.3265 - val_mae: 0.3916\n",
      "Epoch 106/300\n",
      "363/363 [==============================] - 1s 3ms/step - loss: 0.2929 - mae: 0.3761 - val_loss: 0.3262 - val_mae: 0.3877\n",
      "Epoch 107/300\n",
      "363/363 [==============================] - 2s 4ms/step - loss: 0.2924 - mae: 0.3754 - val_loss: 0.3250 - val_mae: 0.3897\n",
      "Epoch 108/300\n",
      "363/363 [==============================] - 1s 2ms/step - loss: 0.2916 - mae: 0.3752 - val_loss: 0.3258 - val_mae: 0.3941\n",
      "Epoch 109/300\n",
      "363/363 [==============================] - 2s 4ms/step - loss: 0.2921 - mae: 0.3757 - val_loss: 0.3268 - val_mae: 0.3876\n",
      "Epoch 110/300\n",
      "363/363 [==============================] - 2s 5ms/step - loss: 0.2921 - mae: 0.3748 - val_loss: 0.3250 - val_mae: 0.3930\n",
      "Epoch 111/300\n",
      "363/363 [==============================] - 2s 6ms/step - loss: 0.2916 - mae: 0.3752 - val_loss: 0.3242 - val_mae: 0.3890\n",
      "Epoch 112/300\n",
      "363/363 [==============================] - 2s 5ms/step - loss: 0.2920 - mae: 0.3753 - val_loss: 0.3256 - val_mae: 0.3887\n",
      "Epoch 113/300\n",
      "363/363 [==============================] - 2s 5ms/step - loss: 0.2926 - mae: 0.3754 - val_loss: 0.3248 - val_mae: 0.3883\n",
      "Epoch 114/300\n",
      "363/363 [==============================] - 2s 5ms/step - loss: 0.2913 - mae: 0.3748 - val_loss: 0.3257 - val_mae: 0.3922\n",
      "Epoch 115/300\n",
      "363/363 [==============================] - 1s 4ms/step - loss: 0.2913 - mae: 0.3748 - val_loss: 0.3245 - val_mae: 0.3884\n",
      "Epoch 116/300\n",
      "363/363 [==============================] - 1s 3ms/step - loss: 0.2910 - mae: 0.3743 - val_loss: 0.3243 - val_mae: 0.3931\n",
      "Epoch 117/300\n",
      "363/363 [==============================] - 2s 4ms/step - loss: 0.2918 - mae: 0.3755 - val_loss: 0.3257 - val_mae: 0.3877\n",
      "Epoch 118/300\n",
      "363/363 [==============================] - 1s 3ms/step - loss: 0.2920 - mae: 0.3747 - val_loss: 0.3240 - val_mae: 0.3876\n",
      "Epoch 119/300\n",
      "363/363 [==============================] - 2s 6ms/step - loss: 0.2908 - mae: 0.3741 - val_loss: 0.3247 - val_mae: 0.3883\n",
      "Epoch 120/300\n",
      "363/363 [==============================] - 2s 6ms/step - loss: 0.2911 - mae: 0.3742 - val_loss: 0.3247 - val_mae: 0.3890\n",
      "Epoch 121/300\n",
      "363/363 [==============================] - 2s 6ms/step - loss: 0.2906 - mae: 0.3741 - val_loss: 0.3235 - val_mae: 0.3900\n",
      "Epoch 122/300\n",
      "363/363 [==============================] - 2s 6ms/step - loss: 0.2905 - mae: 0.3739 - val_loss: 0.3258 - val_mae: 0.3862\n",
      "Epoch 123/300\n"
     ]
    },
    {
     "name": "stdout",
     "output_type": "stream",
     "text": [
      "363/363 [==============================] - 1s 4ms/step - loss: 0.2902 - mae: 0.3739 - val_loss: 0.3231 - val_mae: 0.3902\n",
      "Epoch 124/300\n",
      "363/363 [==============================] - 2s 5ms/step - loss: 0.2903 - mae: 0.3739 - val_loss: 0.3232 - val_mae: 0.3881\n",
      "Epoch 125/300\n",
      "363/363 [==============================] - 2s 5ms/step - loss: 0.2912 - mae: 0.3741 - val_loss: 0.3238 - val_mae: 0.3882\n",
      "Epoch 126/300\n",
      "363/363 [==============================] - 2s 5ms/step - loss: 0.2906 - mae: 0.3739 - val_loss: 0.3228 - val_mae: 0.3884\n",
      "Epoch 127/300\n",
      "363/363 [==============================] - 1s 4ms/step - loss: 0.2897 - mae: 0.3737 - val_loss: 0.3250 - val_mae: 0.3871\n",
      "Epoch 128/300\n",
      "363/363 [==============================] - 2s 4ms/step - loss: 0.2901 - mae: 0.3737 - val_loss: 0.3231 - val_mae: 0.3875\n",
      "Epoch 129/300\n",
      "363/363 [==============================] - 2s 5ms/step - loss: 0.2932 - mae: 0.3748 - val_loss: 0.3247 - val_mae: 0.3857\n",
      "Epoch 130/300\n",
      "363/363 [==============================] - 1s 4ms/step - loss: 0.2919 - mae: 0.3742 - val_loss: 0.3228 - val_mae: 0.3871\n",
      "Epoch 131/300\n",
      "363/363 [==============================] - 1s 4ms/step - loss: 0.2903 - mae: 0.3735 - val_loss: 0.3236 - val_mae: 0.3866\n",
      "Epoch 132/300\n",
      "363/363 [==============================] - 1s 3ms/step - loss: 0.2901 - mae: 0.3737 - val_loss: 0.3253 - val_mae: 0.3854\n",
      "Epoch 133/300\n",
      "363/363 [==============================] - 1s 4ms/step - loss: 0.2906 - mae: 0.3735 - val_loss: 0.3235 - val_mae: 0.3868\n",
      "Epoch 134/300\n",
      "363/363 [==============================] - 2s 5ms/step - loss: 0.2898 - mae: 0.3732 - val_loss: 0.3226 - val_mae: 0.3870\n",
      "Epoch 135/300\n",
      "363/363 [==============================] - 2s 6ms/step - loss: 0.2897 - mae: 0.3731 - val_loss: 0.3226 - val_mae: 0.3889\n",
      "Epoch 136/300\n",
      "363/363 [==============================] - 2s 7ms/step - loss: 0.2892 - mae: 0.3732 - val_loss: 0.3236 - val_mae: 0.3851\n",
      "Epoch 137/300\n",
      "363/363 [==============================] - 1s 3ms/step - loss: 0.2912 - mae: 0.3735 - val_loss: 0.3229 - val_mae: 0.3881\n",
      "Epoch 138/300\n",
      "363/363 [==============================] - 1s 4ms/step - loss: 0.2891 - mae: 0.3731 - val_loss: 0.3245 - val_mae: 0.3858\n",
      "Epoch 139/300\n",
      "363/363 [==============================] - 2s 5ms/step - loss: 0.2890 - mae: 0.3725 - val_loss: 0.3228 - val_mae: 0.3857\n",
      "Epoch 140/300\n",
      "363/363 [==============================] - 2s 5ms/step - loss: 0.2883 - mae: 0.3724 - val_loss: 0.3248 - val_mae: 0.3851\n",
      "Epoch 141/300\n",
      "363/363 [==============================] - 2s 4ms/step - loss: 0.2911 - mae: 0.3738 - val_loss: 0.3286 - val_mae: 0.3854\n",
      "Epoch 142/300\n",
      "363/363 [==============================] - 2s 4ms/step - loss: 0.2890 - mae: 0.3727 - val_loss: 0.3217 - val_mae: 0.3874\n",
      "Epoch 143/300\n",
      "363/363 [==============================] - 2s 5ms/step - loss: 0.2893 - mae: 0.3723 - val_loss: 0.3215 - val_mae: 0.3886\n",
      "Epoch 144/300\n",
      "363/363 [==============================] - 2s 5ms/step - loss: 0.2886 - mae: 0.3726 - val_loss: 0.3225 - val_mae: 0.3851\n",
      "Epoch 145/300\n",
      "363/363 [==============================] - 2s 5ms/step - loss: 0.2889 - mae: 0.3721 - val_loss: 0.3225 - val_mae: 0.3867\n",
      "Epoch 146/300\n",
      "363/363 [==============================] - 1s 4ms/step - loss: 0.2885 - mae: 0.3722 - val_loss: 0.3277 - val_mae: 0.3841\n",
      "Epoch 147/300\n",
      "363/363 [==============================] - 1s 3ms/step - loss: 0.2887 - mae: 0.3721 - val_loss: 0.3224 - val_mae: 0.3867\n",
      "Epoch 148/300\n",
      "363/363 [==============================] - 1s 3ms/step - loss: 0.2880 - mae: 0.3717 - val_loss: 0.3219 - val_mae: 0.3865\n",
      "Epoch 149/300\n",
      "363/363 [==============================] - 2s 5ms/step - loss: 0.2886 - mae: 0.3720 - val_loss: 0.3215 - val_mae: 0.3870\n",
      "Epoch 150/300\n",
      "363/363 [==============================] - 1s 3ms/step - loss: 0.2879 - mae: 0.3716 - val_loss: 0.3221 - val_mae: 0.3851\n",
      "Epoch 151/300\n",
      "363/363 [==============================] - 2s 5ms/step - loss: 0.2877 - mae: 0.3713 - val_loss: 0.3213 - val_mae: 0.3901\n",
      "Epoch 152/300\n",
      "363/363 [==============================] - 2s 4ms/step - loss: 0.2882 - mae: 0.3720 - val_loss: 0.3264 - val_mae: 0.3860\n",
      "Epoch 153/300\n",
      "363/363 [==============================] - 2s 4ms/step - loss: 0.2879 - mae: 0.3717 - val_loss: 0.3213 - val_mae: 0.3852\n",
      "Epoch 154/300\n",
      "363/363 [==============================] - 2s 4ms/step - loss: 0.2876 - mae: 0.3715 - val_loss: 0.3216 - val_mae: 0.3890\n",
      "Epoch 155/300\n",
      "363/363 [==============================] - 1s 3ms/step - loss: 0.2881 - mae: 0.3716 - val_loss: 0.3236 - val_mae: 0.3858\n",
      "Epoch 156/300\n",
      "363/363 [==============================] - 2s 4ms/step - loss: 0.2873 - mae: 0.3713 - val_loss: 0.3221 - val_mae: 0.3870\n",
      "Epoch 157/300\n",
      "363/363 [==============================] - 2s 4ms/step - loss: 0.2881 - mae: 0.3717 - val_loss: 0.3213 - val_mae: 0.3873\n",
      "Epoch 158/300\n",
      "363/363 [==============================] - 2s 4ms/step - loss: 0.2874 - mae: 0.3711 - val_loss: 0.3221 - val_mae: 0.3906\n",
      "Epoch 159/300\n",
      "363/363 [==============================] - 2s 5ms/step - loss: 0.2871 - mae: 0.3717 - val_loss: 0.3216 - val_mae: 0.3848\n",
      "Epoch 160/300\n",
      "363/363 [==============================] - 2s 4ms/step - loss: 0.2875 - mae: 0.3709 - val_loss: 0.3214 - val_mae: 0.3870\n",
      "Epoch 161/300\n",
      "363/363 [==============================] - 2s 5ms/step - loss: 0.2872 - mae: 0.3710 - val_loss: 0.3216 - val_mae: 0.3852\n",
      "Epoch 162/300\n",
      "363/363 [==============================] - 1s 4ms/step - loss: 0.2874 - mae: 0.3709 - val_loss: 0.3218 - val_mae: 0.3836\n",
      "Epoch 163/300\n",
      "363/363 [==============================] - 1s 3ms/step - loss: 0.2881 - mae: 0.3714 - val_loss: 0.3221 - val_mae: 0.3851\n",
      "Epoch 164/300\n",
      "363/363 [==============================] - 2s 5ms/step - loss: 0.2872 - mae: 0.3709 - val_loss: 0.3233 - val_mae: 0.3833\n",
      "Epoch 165/300\n",
      "363/363 [==============================] - 2s 5ms/step - loss: 0.2868 - mae: 0.3709 - val_loss: 0.3225 - val_mae: 0.3850\n",
      "Epoch 166/300\n",
      "363/363 [==============================] - 2s 5ms/step - loss: 0.2867 - mae: 0.3707 - val_loss: 0.3204 - val_mae: 0.3868\n",
      "Epoch 167/300\n",
      "363/363 [==============================] - 1s 4ms/step - loss: 0.2875 - mae: 0.3712 - val_loss: 0.3200 - val_mae: 0.3887\n",
      "Epoch 168/300\n",
      "363/363 [==============================] - 1s 4ms/step - loss: 0.2869 - mae: 0.3707 - val_loss: 0.3279 - val_mae: 0.3850\n",
      "Epoch 169/300\n",
      "363/363 [==============================] - 2s 5ms/step - loss: 0.2873 - mae: 0.3705 - val_loss: 0.3257 - val_mae: 0.3854\n",
      "Epoch 170/300\n",
      "363/363 [==============================] - 2s 5ms/step - loss: 0.2865 - mae: 0.3705 - val_loss: 0.3203 - val_mae: 0.3859\n",
      "Epoch 171/300\n",
      "363/363 [==============================] - 2s 4ms/step - loss: 0.2866 - mae: 0.3706 - val_loss: 0.3203 - val_mae: 0.3843\n",
      "Epoch 172/300\n",
      "363/363 [==============================] - 1s 4ms/step - loss: 0.2873 - mae: 0.3713 - val_loss: 0.3225 - val_mae: 0.3840\n",
      "Epoch 173/300\n",
      "363/363 [==============================] - 1s 3ms/step - loss: 0.2862 - mae: 0.3696 - val_loss: 0.3221 - val_mae: 0.3841\n",
      "Epoch 174/300\n",
      "363/363 [==============================] - 1s 3ms/step - loss: 0.2859 - mae: 0.3702 - val_loss: 0.3203 - val_mae: 0.3845\n",
      "Epoch 175/300\n",
      "363/363 [==============================] - 2s 5ms/step - loss: 0.2864 - mae: 0.3704 - val_loss: 0.3210 - val_mae: 0.3859\n",
      "Epoch 176/300\n",
      "363/363 [==============================] - 2s 6ms/step - loss: 0.2862 - mae: 0.3705 - val_loss: 0.3214 - val_mae: 0.3827\n",
      "Epoch 177/300\n",
      "363/363 [==============================] - 2s 5ms/step - loss: 0.2866 - mae: 0.3702 - val_loss: 0.3203 - val_mae: 0.3858\n"
     ]
    }
   ],
   "source": [
    "model_history=model_new.fit(x_train, y_train, epochs=300,\n",
    "                        validation_data=(x_valid,y_valid),\n",
    "                        callbacks=[checkpoint_cb,early_stoping_cb])"
   ]
  },
  {
   "cell_type": "markdown",
   "metadata": {},
   "source": [
    "As you can see that with 300 epoch model is early stop with minimum val_loss 0.3200 and with patience hyperparamete with check for another 10 validation of data"
   ]
  },
  {
   "cell_type": "code",
   "execution_count": 89,
   "metadata": {},
   "outputs": [],
   "source": [
    "#model_new=keras.models.load_model(\"Early_Best_Model.h5\")"
   ]
  },
  {
   "cell_type": "code",
   "execution_count": null,
   "metadata": {},
   "outputs": [],
   "source": [
    "#model_new.evaluate(x_test, y_test)"
   ]
  },
  {
   "cell_type": "code",
   "execution_count": null,
   "metadata": {},
   "outputs": [],
   "source": []
  }
 ],
 "metadata": {
  "kernelspec": {
   "display_name": "Python 3",
   "language": "python",
   "name": "python3"
  },
  "language_info": {
   "codemirror_mode": {
    "name": "ipython",
    "version": 3
   },
   "file_extension": ".py",
   "mimetype": "text/x-python",
   "name": "python",
   "nbconvert_exporter": "python",
   "pygments_lexer": "ipython3",
   "version": "3.7.4"
  }
 },
 "nbformat": 4,
 "nbformat_minor": 2
}
