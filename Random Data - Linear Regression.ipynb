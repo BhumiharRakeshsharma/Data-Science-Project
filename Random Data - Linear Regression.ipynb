{
 "cells": [
  {
   "cell_type": "code",
   "execution_count": 1,
   "metadata": {},
   "outputs": [],
   "source": [
    "import numpy as np\n",
    "import pandas as pd\n",
    "import matplotlib.pyplot as plt\n",
    "import sklearn\n",
    "import seaborn as sns\n",
    "#import statsmodels.formula.api as sm\n",
    "import statsmodels.regression.linear_model as sm"
   ]
  },
  {
   "cell_type": "code",
   "execution_count": 2,
   "metadata": {
    "scrolled": true
   },
   "outputs": [
    {
     "data": {
      "text/html": [
       "<div>\n",
       "<style scoped>\n",
       "    .dataframe tbody tr th:only-of-type {\n",
       "        vertical-align: middle;\n",
       "    }\n",
       "\n",
       "    .dataframe tbody tr th {\n",
       "        vertical-align: top;\n",
       "    }\n",
       "\n",
       "    .dataframe thead th {\n",
       "        text-align: right;\n",
       "    }\n",
       "</style>\n",
       "<table border=\"1\" class=\"dataframe\">\n",
       "  <thead>\n",
       "    <tr style=\"text-align: right;\">\n",
       "      <th></th>\n",
       "      <th>House Price</th>\n",
       "      <th>Square Feet</th>\n",
       "      <th>City</th>\n",
       "    </tr>\n",
       "  </thead>\n",
       "  <tbody>\n",
       "    <tr>\n",
       "      <td>0</td>\n",
       "      <td>245</td>\n",
       "      <td>1400</td>\n",
       "      <td>N</td>\n",
       "    </tr>\n",
       "    <tr>\n",
       "      <td>1</td>\n",
       "      <td>312</td>\n",
       "      <td>1600</td>\n",
       "      <td>Y</td>\n",
       "    </tr>\n",
       "    <tr>\n",
       "      <td>2</td>\n",
       "      <td>279</td>\n",
       "      <td>1700</td>\n",
       "      <td>N</td>\n",
       "    </tr>\n",
       "    <tr>\n",
       "      <td>3</td>\n",
       "      <td>308</td>\n",
       "      <td>1875</td>\n",
       "      <td>Y</td>\n",
       "    </tr>\n",
       "    <tr>\n",
       "      <td>4</td>\n",
       "      <td>199</td>\n",
       "      <td>1100</td>\n",
       "      <td>N</td>\n",
       "    </tr>\n",
       "    <tr>\n",
       "      <td>5</td>\n",
       "      <td>219</td>\n",
       "      <td>1550</td>\n",
       "      <td>N</td>\n",
       "    </tr>\n",
       "    <tr>\n",
       "      <td>6</td>\n",
       "      <td>405</td>\n",
       "      <td>2350</td>\n",
       "      <td>Y</td>\n",
       "    </tr>\n",
       "    <tr>\n",
       "      <td>7</td>\n",
       "      <td>324</td>\n",
       "      <td>2450</td>\n",
       "      <td>Y</td>\n",
       "    </tr>\n",
       "    <tr>\n",
       "      <td>8</td>\n",
       "      <td>319</td>\n",
       "      <td>1425</td>\n",
       "      <td>Y</td>\n",
       "    </tr>\n",
       "    <tr>\n",
       "      <td>9</td>\n",
       "      <td>255</td>\n",
       "      <td>1700</td>\n",
       "      <td>N</td>\n",
       "    </tr>\n",
       "  </tbody>\n",
       "</table>\n",
       "</div>"
      ],
      "text/plain": [
       "   House Price  Square Feet City\n",
       "0          245         1400    N\n",
       "1          312         1600    Y\n",
       "2          279         1700    N\n",
       "3          308         1875    Y\n",
       "4          199         1100    N\n",
       "5          219         1550    N\n",
       "6          405         2350    Y\n",
       "7          324         2450    Y\n",
       "8          319         1425    Y\n",
       "9          255         1700    N"
      ]
     },
     "execution_count": 2,
     "metadata": {},
     "output_type": "execute_result"
    }
   ],
   "source": [
    "data = pd.read_csv(\"LR_1.csv\", header=0)\n",
    "data"
   ]
  },
  {
   "cell_type": "code",
   "execution_count": 3,
   "metadata": {},
   "outputs": [
    {
     "name": "stdout",
     "output_type": "stream",
     "text": [
      "(10, 3)\n"
     ]
    },
    {
     "data": {
      "text/plain": [
       "House Price     int64\n",
       "Square Feet     int64\n",
       "City           object\n",
       "dtype: object"
      ]
     },
     "execution_count": 3,
     "metadata": {},
     "output_type": "execute_result"
    }
   ],
   "source": [
    "print(data.shape)\n",
    "#print(data.head())\n",
    "#print(data.tail(6))\n",
    "data.dtypes"
   ]
  },
  {
   "cell_type": "code",
   "execution_count": 4,
   "metadata": {},
   "outputs": [
    {
     "name": "stdout",
     "output_type": "stream",
     "text": [
      "House Price    False\n",
      "Square Feet    False\n",
      "City            True\n",
      "dtype: bool\n",
      "   Y\n",
      "0  0\n",
      "1  1\n",
      "2  0\n",
      "3  1\n",
      "4  0\n",
      "5  0\n",
      "6  1\n",
      "7  1\n",
      "8  1\n",
      "9  0\n"
     ]
    }
   ],
   "source": [
    "#Get all categorical variables and create dummies\n",
    "obj = data.dtypes == object\n",
    "print(obj)\n",
    "dummydf = pd.DataFrame() \n",
    "\n",
    "for i in data.columns[obj]:\n",
    "    dummy = pd.get_dummies(data[i], drop_first=True)\n",
    "    dummydf = pd.concat([dummydf, dummy], axis=1)\n",
    "\n",
    "print(dummydf)"
   ]
  },
  {
   "cell_type": "code",
   "execution_count": 5,
   "metadata": {
    "scrolled": false
   },
   "outputs": [
    {
     "name": "stdout",
     "output_type": "stream",
     "text": [
      "   House Price  Square Feet City\n",
      "0          245         1400    N\n",
      "1          312         1600    Y\n",
      "2          279         1700    N\n",
      "3          308         1875    Y\n",
      "4          199         1100    N\n",
      "5          219         1550    N\n",
      "6          405         2350    Y\n",
      "7          324         2450    Y\n",
      "8          319         1425    Y\n",
      "9          255         1700    N\n",
      "   House Price  Square Feet City  Y\n",
      "0          245         1400    N  0\n",
      "1          312         1600    Y  1\n",
      "2          279         1700    N  0\n",
      "3          308         1875    Y  1\n",
      "4          199         1100    N  0\n",
      "5          219         1550    N  0\n",
      "6          405         2350    Y  1\n",
      "7          324         2450    Y  1\n",
      "8          319         1425    Y  1\n",
      "9          255         1700    N  0\n",
      "House Price    False\n",
      "Square Feet    False\n",
      "City            True\n",
      "Y              False\n",
      "dtype: bool\n",
      "   House Price  Square Feet  Y\n",
      "0          245         1400  0\n",
      "1          312         1600  1\n",
      "2          279         1700  0\n",
      "3          308         1875  1\n",
      "4          199         1100  0\n",
      "5          219         1550  0\n",
      "6          405         2350  1\n",
      "7          324         2450  1\n",
      "8          319         1425  1\n",
      "9          255         1700  0\n"
     ]
    }
   ],
   "source": [
    "#Merge the dummy and dataset\n",
    "data1 = data\n",
    "print(data1)\n",
    "data1 = pd.concat([data1,dummydf], axis=1)\n",
    "print(data1)\n",
    "obj1 = data1.dtypes == object\n",
    "print(obj1)\n",
    "data1=data1.drop(data1.columns[obj1], axis = 1)\n",
    "print(data1)"
   ]
  },
  {
   "cell_type": "code",
   "execution_count": 6,
   "metadata": {},
   "outputs": [
    {
     "name": "stdout",
     "output_type": "stream",
     "text": [
      "   House Price  Square Feet  New City\n",
      "0          245         1400         0\n",
      "1          312         1600         1\n",
      "2          279         1700         0\n",
      "3          308         1875         1\n",
      "4          199         1100         0\n",
      "5          219         1550         0\n",
      "6          405         2350         1\n",
      "7          324         2450         1\n",
      "8          319         1425         1\n",
      "9          255         1700         0\n"
     ]
    }
   ],
   "source": [
    "data1.columns = ['House Price', 'Square Feet', 'New City']\n",
    "print(data1)"
   ]
  },
  {
   "cell_type": "code",
   "execution_count": 7,
   "metadata": {},
   "outputs": [],
   "source": [
    "#Declare the dependent variable and create your independent and dependent datasets\n",
    "X = data1.drop('House Price', axis=1)\n",
    "Y = data1['House Price']"
   ]
  },
  {
   "cell_type": "code",
   "execution_count": 8,
   "metadata": {},
   "outputs": [
    {
     "data": {
      "text/plain": [
       "((10, 2), (10,))"
      ]
     },
     "execution_count": 8,
     "metadata": {},
     "output_type": "execute_result"
    }
   ],
   "source": [
    "X.shape, Y.shape"
   ]
  },
  {
   "cell_type": "code",
   "execution_count": 9,
   "metadata": {},
   "outputs": [
    {
     "data": {
      "text/plain": [
       "Index(['Square Feet', 'New City'], dtype='object')"
      ]
     },
     "execution_count": 9,
     "metadata": {},
     "output_type": "execute_result"
    }
   ],
   "source": [
    "X.columns"
   ]
  },
  {
   "cell_type": "code",
   "execution_count": 10,
   "metadata": {},
   "outputs": [
    {
     "data": {
      "image/png": "[encoded data removed]",
      "text/plain": [
       "<Figure size 540x540 with 12 Axes>"
      ]
     },
     "metadata": {
      "needs_background": "light"
     },
     "output_type": "display_data"
    }
   ],
   "source": [
    "#Scatter plots\n",
    "sns.pairplot(data1, kind='reg')\n",
    "plt.show()"
   ]
  },
  {
   "cell_type": "code",
   "execution_count": 11,
   "metadata": {},
   "outputs": [],
   "source": [
    "#Split into train and test\n",
    "from sklearn.model_selection import train_test_split\n",
    "X_train, X_test, Y_train, Y_test =train_test_split(X, Y, test_size=0.20, random_state=5)"
   ]
  },
  {
   "cell_type": "code",
   "execution_count": 12,
   "metadata": {
    "scrolled": true
   },
   "outputs": [
    {
     "name": "stdout",
     "output_type": "stream",
     "text": [
      "                                 OLS Regression Results                                \n",
      "=======================================================================================\n",
      "Dep. Variable:            House Price   R-squared (uncentered):                   0.979\n",
      "Model:                            OLS   Adj. R-squared (uncentered):              0.973\n",
      "Method:                 Least Squares   F-statistic:                              143.1\n",
      "Date:                Wed, 13 May 2020   Prob (F-statistic):                    8.65e-06\n",
      "Time:                        23:23:42   Log-Likelihood:                         -41.550\n",
      "No. Observations:                   8   AIC:                                      87.10\n",
      "Df Residuals:                       6   BIC:                                      87.26\n",
      "Df Model:                           2                                                  \n",
      "Covariance Type:            nonrobust                                                  \n",
      "===============================================================================\n",
      "                  coef    std err          t      P>|t|      [0.025      0.975]\n",
      "-------------------------------------------------------------------------------\n",
      "Square Feet     0.1567      0.019      8.163      0.000       0.110       0.204\n",
      "New City       29.5832     43.518      0.680      0.522     -76.900     136.067\n",
      "==============================================================================\n",
      "Omnibus:                        6.866   Durbin-Watson:                   2.239\n",
      "Prob(Omnibus):                  0.032   Jarque-Bera (JB):                1.994\n",
      "Skew:                          -1.151   Prob(JB):                        0.369\n",
      "Kurtosis:                       3.826   Cond. No.                     4.38e+03\n",
      "==============================================================================\n",
      "\n",
      "Warnings:\n",
      "[1] Standard Errors assume that the covariance matrix of the errors is correctly specified.\n",
      "[2] The condition number is large, 4.38e+03. This might indicate that there are\n",
      "strong multicollinearity or other numerical problems.\n"
     ]
    },
    {
     "name": "stderr",
     "output_type": "stream",
     "text": [
      "C:\\Users\\Bhumihar Rakesh\\Anaconda3\\lib\\site-packages\\scipy\\stats\\stats.py:1450: UserWarning: kurtosistest only valid for n>=20 ... continuing anyway, n=8\n",
      "  \"anyway, n=%i\" % int(n))\n"
     ]
    }
   ],
   "source": [
    "#!pip install statsmodels\n",
    "from statsmodels.api import OLS\n",
    "#Run model\n",
    "lm = sm.OLS(Y_train,X_train).fit()\n",
    "print(lm.summary())\n"
   ]
  },
  {
   "cell_type": "code",
   "execution_count": null,
   "metadata": {},
   "outputs": [],
   "source": []
  },
  {
   "cell_type": "code",
   "execution_count": 13,
   "metadata": {},
   "outputs": [],
   "source": [
    "pred_train = lm.predict(X_train)\n",
    "err_train = pred_train - Y_train\n",
    "\n",
    "#Predict\n",
    "pred_test = lm.predict(X_test)\n",
    "err_test = pred_test - Y_test"
   ]
  },
  {
   "cell_type": "code",
   "execution_count": 14,
   "metadata": {},
   "outputs": [
    {
     "name": "stdout",
     "output_type": "stream",
     "text": [
      "<class 'pandas.core.frame.DataFrame'>\n",
      "   Actuals   Predicted      Error\n",
      "2      279  266.406503 -12.593497\n",
      "4      199  172.380679 -26.619321\n",
      "7      324  413.521951  89.521951\n",
      "1      312  280.318699 -31.681301\n",
      "0      245  219.393591 -25.606409\n",
      "8      319  252.894500 -66.105500\n",
      "6      405  397.850980  -7.149020\n",
      "3      308  323.413869  15.413869\n"
     ]
    }
   ],
   "source": [
    "#Actual vs predicted plot\n",
    "Err_table1 = pd.concat((Y_train, pred_train, err_train), axis = 1)\n",
    "print(Err_table1.__class__)\n",
    "Err_table1.columns = ['Actuals','Predicted','Error']\n",
    "print(Err_table1)"
   ]
  },
  {
   "cell_type": "code",
   "execution_count": 15,
   "metadata": {},
   "outputs": [
    {
     "name": "stdout",
     "output_type": "stream",
     "text": [
      "<class 'pandas.core.frame.DataFrame'>\n",
      "   Actuals   Predicted      Error\n",
      "9      255  266.406503  11.406503\n",
      "5      219  242.900047  23.900047\n"
     ]
    }
   ],
   "source": [
    "#Actual vs predicted plot\n",
    "Err_table = pd.concat((Y_test, pred_test, err_test), axis = 1)\n",
    "print(Err_table.__class__)\n",
    "Err_table.columns = ['Actuals','Predicted','Error']\n",
    "print(Err_table)"
   ]
  },
  {
   "cell_type": "code",
   "execution_count": 16,
   "metadata": {},
   "outputs": [
    {
     "name": "stderr",
     "output_type": "stream",
     "text": [
      "No handles with labels found to put in legend.\n"
     ]
    },
    {
     "data": {
      "image/png": "[encoded data removed]",
      "text/plain": [
       "<Figure size 432x288 with 1 Axes>"
      ]
     },
     "metadata": {
      "needs_background": "light"
     },
     "output_type": "display_data"
    }
   ],
   "source": [
    "index = np.arange(len(Err_table1))\n",
    "plt.plot(index,Err_table1['Actuals'], color = 'b')\n",
    "plt.plot(index,Err_table1['Predicted'], color = 'g')\n",
    "plt.legend(loc = \"upper center\")\n",
    "plt.show()"
   ]
  },
  {
   "cell_type": "code",
   "execution_count": 17,
   "metadata": {},
   "outputs": [
    {
     "data": {
      "text/plain": [
       "Text(0.5, 1.0, 'Main')"
      ]
     },
     "execution_count": 17,
     "metadata": {},
     "output_type": "execute_result"
    },
    {
     "data": {
      "image/png": "[encoded data removed]",
      "text/plain": [
       "<Figure size 432x288 with 1 Axes>"
      ]
     },
     "metadata": {
      "needs_background": "light"
     },
     "output_type": "display_data"
    }
   ],
   "source": [
    "plt.scatter(Y_train, pred_train)\n",
    "plt.xlabel('Y')\n",
    "plt.ylabel('Pred')\n",
    "plt.title('Main')"
   ]
  },
  {
   "cell_type": "code",
   "execution_count": 18,
   "metadata": {},
   "outputs": [
    {
     "data": {
      "text/plain": [
       "Text(0, 0.5, 'Residuals')"
      ]
     },
     "execution_count": 18,
     "metadata": {},
     "output_type": "execute_result"
    },
    {
     "data": {
      "image/png": "[encoded data removed]",
      "text/plain": [
       "<Figure size 432x288 with 1 Axes>"
      ]
     },
     "metadata": {
      "needs_background": "light"
     },
     "output_type": "display_data"
    }
   ],
   "source": [
    "#Residual plots\n",
    "plt.scatter(pred_train, err_train, c=\"b\", s=40, alpha=0.5)\n",
    "plt.scatter(pred_test,err_test, c=\"g\", s=40)\n",
    "plt.hlines(y=0, xmin=0, xmax=500)\n",
    "plt.title('Residual plot - Train(blue), Test(green)')\n",
    "plt.ylabel('Residuals')"
   ]
  },
  {
   "cell_type": "code",
   "execution_count": 19,
   "metadata": {},
   "outputs": [
    {
     "data": {
      "image/png": "[encoded data removed]",
      "text/plain": [
       "<Figure size 432x288 with 1 Axes>"
      ]
     },
     "metadata": {
      "needs_background": "light"
     },
     "output_type": "display_data"
    },
    {
     "data": {
      "image/png": "[encoded data removed]",
      "text/plain": [
       "<Figure size 432x288 with 1 Axes>"
      ]
     },
     "metadata": {
      "needs_background": "light"
     },
     "output_type": "display_data"
    }
   ],
   "source": [
    "from statsmodels.api import qqplot\n",
    "err_train\n",
    "sns.distplot(err_train)\n",
    "qqplot(err_train, line = \"r\")\n",
    "#plt.plot([0,1],[0,1],'r--')\n",
    "plt.show()"
   ]
  },
  {
   "cell_type": "code",
   "execution_count": 20,
   "metadata": {},
   "outputs": [
    {
     "name": "stdout",
     "output_type": "stream",
     "text": [
      "18.725925634096647\n"
     ]
    }
   ],
   "source": [
    "# Root Mean Square Error\n",
    "print(np.sqrt(np.mean(err_test**2)))"
   ]
  }
 ],
 "metadata": {
  "kernelspec": {
   "display_name": "Python 3",
   "language": "python",
   "name": "python3"
  },
  "language_info": {
   "codemirror_mode": {
    "name": "ipython",
    "version": 3
   },
   "file_extension": ".py",
   "mimetype": "text/x-python",
   "name": "python",
   "nbconvert_exporter": "python",
   "pygments_lexer": "ipython3",
   "version": "3.7.4"
  }
 },
 "nbformat": 4,
 "nbformat_minor": 2
}
